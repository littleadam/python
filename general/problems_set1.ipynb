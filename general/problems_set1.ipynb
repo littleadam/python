{
  "cells": [
    {
      "cell_type": "markdown",
      "metadata": {
        "id": "view-in-github",
        "colab_type": "text"
      },
      "source": [
        "<a href=\"https://colab.research.google.com/github/littleadam/python/blob/main/general/problems_set1.ipynb\" target=\"_parent\"><img src=\"https://colab.research.google.com/assets/colab-badge.svg\" alt=\"Open In Colab\"/></a>"
      ]
    },
    {
      "cell_type": "markdown",
      "metadata": {
        "id": "mibmzRw3rp3b"
      },
      "source": [
        "# take input as a matrix"
      ]
    },
    {
      "cell_type": "code",
      "execution_count": null,
      "metadata": {
        "colab": {
          "base_uri": "https://localhost:8080/"
        },
        "id": "vcqRsFHGrp3j",
        "outputId": "8eb1116a-2bac-46f5-f511-89eadac1a699"
      },
      "outputs": [
        {
          "output_type": "stream",
          "name": "stdout",
          "text": [
            "Enter Number of rows:3\n",
            "Enter Number of columns:2\n",
            "Enter a number:1\n",
            "Enter a number:2\n",
            "Enter a number:3\n",
            "Enter a number:4\n",
            "Enter a number:5\n",
            "Enter a number:6\n",
            "[[1, 2], [3, 4], [5, 6]]\n"
          ]
        }
      ],
      "source": [
        "row = int(input(\"Enter Number of rows:\"))\n",
        "column = int(input(\"Enter Number of columns:\"))\n",
        "\n",
        "# Using list comprehension for input\n",
        "matrix = [[int(input(\"Enter a number:\")) for x in range (column)] for y in range(row)]\n",
        "print(matrix)"
      ]
    },
    {
      "cell_type": "markdown",
      "metadata": {
        "id": "Wpwih5Strp3p"
      },
      "source": [
        "# print a half pyramid pattern"
      ]
    },
    {
      "cell_type": "code",
      "execution_count": null,
      "metadata": {
        "colab": {
          "base_uri": "https://localhost:8080/"
        },
        "id": "dqzUDadorp3q",
        "outputId": "291096c5-ec32-4618-9e76-d613205d3695"
      },
      "outputs": [
        {
          "output_type": "stream",
          "name": "stdout",
          "text": [
            "Enter number of lines:7\n",
            "* \n",
            "* * \n",
            "* * * \n",
            "* * * * \n",
            "* * * * * \n",
            "* * * * * * \n",
            "* * * * * * * \n"
          ]
        }
      ],
      "source": [
        "print('\\n'.join('* ' * i for i in range(1, int(input(\"Enter number of lines:\")) + 1)))"
      ]
    },
    {
      "cell_type": "markdown",
      "metadata": {
        "id": "H97EqM-Irp3r"
      },
      "source": [
        "# print a list of 2 number combinations from a list of 4"
      ]
    },
    {
      "cell_type": "code",
      "execution_count": null,
      "metadata": {
        "colab": {
          "base_uri": "https://localhost:8080/"
        },
        "id": "5V5itS62rp3s",
        "outputId": "e44655a0-5f06-4700-fdb1-4e249f7578fb"
      },
      "outputs": [
        {
          "output_type": "stream",
          "name": "stdout",
          "text": [
            "[(1, 2), (1, 3), (1, 4), (2, 3), (2, 4), (3, 4)]\n"
          ]
        }
      ],
      "source": [
        "from itertools import combinations\n",
        "print(list(combinations([1, 2, 3, 4], 2)))"
      ]
    },
    {
      "cell_type": "markdown",
      "metadata": {
        "id": "_r1ZYgMyrp3t"
      },
      "source": [
        "# print a list 2 number permuations from a list of 4"
      ]
    },
    {
      "cell_type": "code",
      "execution_count": null,
      "metadata": {
        "colab": {
          "base_uri": "https://localhost:8080/"
        },
        "id": "D88YCjSerp3u",
        "outputId": "a640dd71-6417-428c-9075-091a8e4ebf8c"
      },
      "outputs": [
        {
          "output_type": "stream",
          "name": "stdout",
          "text": [
            "[(1, 2), (1, 3), (1, 4), (2, 1), (2, 3), (2, 4), (3, 1), (3, 2), (3, 4), (4, 1), (4, 2), (4, 3)]\n"
          ]
        }
      ],
      "source": [
        "from itertools import permutations\n",
        "print(list(permutations([1, 2, 3, 4], 2)))"
      ]
    },
    {
      "cell_type": "markdown",
      "metadata": {
        "id": "btm0npWNrp3v"
      },
      "source": [
        "# perform a quick sort on the given list of numbers"
      ]
    },
    {
      "cell_type": "code",
      "execution_count": null,
      "metadata": {
        "colab": {
          "base_uri": "https://localhost:8080/"
        },
        "id": "RHjz_ytDrp3w",
        "outputId": "aad4840d-6e6d-4313-a0c1-4f23634500b4"
      },
      "outputs": [
        {
          "output_type": "execute_result",
          "data": {
            "text/plain": [
              "[2, 3, 4, 6, 7, 9, 45, 55]"
            ]
          },
          "metadata": {},
          "execution_count": 9
        }
      ],
      "source": [
        "qsort = lambda L: [] if L==[] else qsort([x for x in L[1:] if x< L[0]]) + L[0:1] + qsort([x for x in L[1:] if x>=L[0]])\n",
        "qsort([3,4,55,6,7,9,2,45])"
      ]
    },
    {
      "cell_type": "markdown",
      "metadata": {
        "id": "oiIvHtGYrp3y"
      },
      "source": [
        "# sieve of eratosthanus"
      ]
    },
    {
      "cell_type": "code",
      "execution_count": null,
      "metadata": {
        "colab": {
          "base_uri": "https://localhost:8080/"
        },
        "id": "tn1MmLg0rp3z",
        "outputId": "710a19da-f5db-4d15-da2f-92ed5108a550"
      },
      "outputs": [
        {
          "output_type": "stream",
          "name": "stdout",
          "text": [
            "7\n",
            "{2, 3, 4, 5, 6} "
          ]
        }
      ],
      "source": [
        "from functools import reduce\n",
        "primes = lambda n: reduce( (lambda r,x: r-set(range(x**2,n,x)) if (x in r) else r), range(2,int(n**0.5)), set(range(2,n)))\n",
        "print(primes(int(input())), end = \" \")"
      ]
    },
    {
      "cell_type": "markdown",
      "metadata": {
        "id": "5ZJgayNkrp30"
      },
      "source": [
        "# sum of alternating numbers"
      ]
    },
    {
      "cell_type": "code",
      "execution_count": null,
      "metadata": {
        "colab": {
          "base_uri": "https://localhost:8080/"
        },
        "id": "79_M06Gerp30",
        "outputId": "ba0b553f-9585-4cb9-d8a5-179954d03fa3"
      },
      "outputs": [
        {
          "output_type": "execute_result",
          "data": {
            "text/plain": [
              "67"
            ]
          },
          "metadata": {},
          "execution_count": 11
        }
      ],
      "source": [
        "numlist = [3,4,55,6,7,9,2,45]\n",
        "sum(numlist[::2])"
      ]
    },
    {
      "cell_type": "code",
      "execution_count": null,
      "metadata": {
        "id": "vNR3wCFbrp31"
      },
      "outputs": [],
      "source": []
    }
  ],
  "metadata": {
    "kernelspec": {
      "display_name": "Python 3 (ipykernel)",
      "language": "python",
      "name": "python3"
    },
    "language_info": {
      "codemirror_mode": {
        "name": "ipython",
        "version": 3
      },
      "file_extension": ".py",
      "mimetype": "text/x-python",
      "name": "python",
      "nbconvert_exporter": "python",
      "pygments_lexer": "ipython3",
      "version": "3.10.9"
    },
    "colab": {
      "provenance": [],
      "include_colab_link": true
    }
  },
  "nbformat": 4,
  "nbformat_minor": 0
}