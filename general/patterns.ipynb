{
  "cells": [
    {
      "cell_type": "markdown",
      "metadata": {
        "id": "view-in-github",
        "colab_type": "text"
      },
      "source": [
        "<a href=\"https://colab.research.google.com/github/littleadam/python/blob/main/general/patterns.ipynb\" target=\"_parent\"><img src=\"https://colab.research.google.com/assets/colab-badge.svg\" alt=\"Open In Colab\"/></a>"
      ]
    },
    {
      "cell_type": "code",
      "execution_count": null,
      "metadata": {
        "colab": {
          "base_uri": "https://localhost:8080/"
        },
        "id": "GvROt8HMp0y5",
        "outputId": "40d8f75c-b158-4347-b512-b0c30c3603b6"
      },
      "outputs": [
        {
          "output_type": "stream",
          "name": "stdout",
          "text": [
            "Enter the number of rows5\n",
            "* \n",
            "* * \n",
            "* * * \n",
            "* * * * \n",
            "* * * * * \n"
          ]
        }
      ],
      "source": [
        "# This is the example of print simple pyramid pattern\n",
        "n = int(input(\"Enter the number of rows\"))\n",
        "# outer loop to handle number of rows\n",
        "for i in range(0, n):\n",
        "    # inner loop to handle number of columns\n",
        "    # values is changing according to outer loop\n",
        "        for j in range(0, i + 1):\n",
        "            # printing stars\n",
        "            print(\"* \", end=\"\")\n",
        "\n",
        "        # ending line after each row\n",
        "        print()"
      ]
    },
    {
      "cell_type": "code",
      "execution_count": null,
      "metadata": {
        "colab": {
          "base_uri": "https://localhost:8080/"
        },
        "id": "ih4vYqwUp0y_",
        "outputId": "44b005b8-b9ee-4455-ba1d-191150e7f7db"
      },
      "outputs": [
        {
          "output_type": "stream",
          "name": "stdout",
          "text": [
            "Enter the number of rows:7\n",
            "            * \n",
            "          * * \n",
            "        * * * \n",
            "      * * * * \n",
            "    * * * * * \n",
            "  * * * * * * \n",
            "* * * * * * * \n"
          ]
        }
      ],
      "source": [
        "# This is the example of print simple reversed right angle pyramid pattern\n",
        "rows = int(input(\"Enter the number of rows:\"))\n",
        "k = 2 * rows - 2  # It is used for number of spaces\n",
        "for i in range(0, rows):\n",
        "    for j in range(0, k):\n",
        "        print(end=\" \")\n",
        "    k = k - 2   # decrement k value after each iteration\n",
        "    for j in range(0, i + 1):\n",
        "        print(\"* \", end=\"\")  # printing star\n",
        "    print(\"\")"
      ]
    },
    {
      "cell_type": "code",
      "execution_count": null,
      "metadata": {
        "colab": {
          "base_uri": "https://localhost:8080/"
        },
        "id": "69-kTTelp0zA",
        "outputId": "e4df4f92-f46d-48bd-d467-5e73ec909806"
      },
      "outputs": [
        {
          "output_type": "stream",
          "name": "stdout",
          "text": [
            "Enter the number of rows: 7\n",
            "* * * * * * *  \n",
            "* * * * * *  \n",
            "* * * * *  \n",
            "* * * *  \n",
            "* * *  \n",
            "* *  \n",
            "*  \n",
            " \n"
          ]
        }
      ],
      "source": [
        "rows = int(input(\"Enter the number of rows: \"))\n",
        "\n",
        "# the outer loop is executing in reversed order\n",
        "for i in range(rows + 1, 0, -1):\n",
        "    for j in range(0, i - 1):\n",
        "        print(\"*\", end=' ')\n",
        "    print(\" \")"
      ]
    },
    {
      "cell_type": "code",
      "execution_count": null,
      "metadata": {
        "colab": {
          "base_uri": "https://localhost:8080/"
        },
        "id": "UL4yVJPep0zC",
        "outputId": "ae5b513e-7a92-4d32-fa3c-96413ed5ae9c"
      },
      "outputs": [
        {
          "output_type": "stream",
          "name": "stdout",
          "text": [
            "Enter the number of rows: 6\n",
            "          *   \n",
            "         *  *   \n",
            "        *  *  *   \n",
            "       *  *  *  *   \n",
            "      *  *  *  *  *   \n",
            "     *  *  *  *  *  *   \n"
          ]
        }
      ],
      "source": [
        "n = int(input(\"Enter the number of rows: \"))\n",
        "m = (2 * n) - 2\n",
        "for i in range(0, n):\n",
        "    for j in range(0, m):\n",
        "        print(end=\" \")\n",
        "    m = m - 1  # decrementing m after each loop\n",
        "    for j in range(0, i + 1):\n",
        "        # printing full Triangle pyramid using stars\n",
        "        print(\"* \", end=' ')\n",
        "    print(\" \")"
      ]
    },
    {
      "cell_type": "code",
      "execution_count": null,
      "metadata": {
        "colab": {
          "base_uri": "https://localhost:8080/"
        },
        "id": "2qweac1Ip0zD",
        "outputId": "892d6c2e-1780-4ab8-9d36-3a3513aec665"
      },
      "outputs": [
        {
          "output_type": "stream",
          "name": "stdout",
          "text": [
            "Enter the number of rows: 7\n",
            "            * * * * * * * * \n",
            "             * * * * * * * \n",
            "              * * * * * * \n",
            "               * * * * * \n",
            "                * * * * \n",
            "                 * * * \n",
            "                  * * \n",
            "                   * \n"
          ]
        }
      ],
      "source": [
        "rows = int(input(\"Enter the number of rows: \"))\n",
        "\n",
        "# It is used to print space\n",
        "k = 2 * rows - 2\n",
        "# Outer loop in reverse order\n",
        "for i in range(rows, -1, -1):\n",
        "    # Inner loop will print the number of space.\n",
        "    for j in range(k, 0, -1):\n",
        "        print(end=\" \")\n",
        "    k = k + 1\n",
        "    # This inner loop will print the number o stars\n",
        "    for j in range(0, i + 1):\n",
        "        print(\"*\", end=\" \")\n",
        "    print(\"\")"
      ]
    },
    {
      "cell_type": "code",
      "execution_count": null,
      "metadata": {
        "colab": {
          "base_uri": "https://localhost:8080/"
        },
        "id": "DqX3q1b7p0zD",
        "outputId": "66beba68-066e-4e92-876a-947bb610b828"
      },
      "outputs": [
        {
          "output_type": "stream",
          "name": "stdout",
          "text": [
            "Enter the number of rows: 7\n",
            "            * \n",
            "           * * \n",
            "          * * * \n",
            "         * * * * \n",
            "        * * * * * \n",
            "       * * * * * * \n",
            "      * * * * * * * \n"
          ]
        }
      ],
      "source": [
        "rows = int(input(\"Enter the number of rows: \"))\n",
        "\n",
        "# It is used to print the space\n",
        "k = 2 * rows - 2\n",
        "# Outer loop to print number of rows\n",
        "for i in range(0, rows):\n",
        "    # Inner loop is used to print number of space\n",
        "    for j in range(0, k):\n",
        "        print(end=\" \")\n",
        "    # Decrement in k after each iteration\n",
        "    k = k - 1\n",
        "    # This inner loop is used to print stars\n",
        "    for j in range(0, i + 1):\n",
        "        print(\"* \", end=\"\")\n",
        "    print(\"\")\n",
        "\n",
        "# Downward triangle Pyramid"
      ]
    },
    {
      "cell_type": "code",
      "execution_count": null,
      "metadata": {
        "colab": {
          "base_uri": "https://localhost:8080/"
        },
        "id": "GxOmZqmap0zF",
        "outputId": "8a2a03f5-32d2-435c-9b95-0e25ef1b81eb"
      },
      "outputs": [
        {
          "output_type": "stream",
          "name": "stdout",
          "text": [
            "Enter the number of rows: 7\n",
            "            * \n",
            "           * * \n",
            "          * * * \n",
            "         * * * * \n",
            "        * * * * * \n",
            "       * * * * * * \n",
            "      * * * * * * * \n",
            "     * * * * * * * * \n",
            "      * * * * * * * \n",
            "       * * * * * * \n",
            "        * * * * * \n",
            "         * * * * \n",
            "          * * * \n",
            "           * * \n",
            "            * \n"
          ]
        }
      ],
      "source": [
        "rows = int(input(\"Enter the number of rows: \"))\n",
        "\n",
        "# It is used to print the space\n",
        "k = 2 * rows - 2\n",
        "# Outer loop to print number of rows\n",
        "for i in range(0, rows):\n",
        "    # Inner loop is used to print number of space\n",
        "    for j in range(0, k):\n",
        "        print(end=\" \")\n",
        "    # Decrement in k after each iteration\n",
        "    k = k - 1\n",
        "    # This inner loop is used to print stars\n",
        "    for j in range(0, i + 1):\n",
        "        print(\"* \", end=\"\")\n",
        "    print(\"\")\n",
        "\n",
        "# Downward triangle Pyramid\n",
        "# It is used to print the space\n",
        "k = rows - 2\n",
        "# Output for downward triangle pyramid\n",
        "for i in range(rows, -1, -1):\n",
        "    # inner loop will print the spaces\n",
        "    for j in range(k, 0, -1):\n",
        "        print(end=\" \")\n",
        "    # Increment in k after each iteration\n",
        "    k = k + 1\n",
        "    # This inner loop will print number of stars\n",
        "    for j in range(0, i + 1):\n",
        "        print(\"* \", end=\"\")\n",
        "    print(\"\")"
      ]
    },
    {
      "cell_type": "code",
      "execution_count": null,
      "metadata": {
        "colab": {
          "base_uri": "https://localhost:8080/"
        },
        "id": "PMgwkXfZp0zG",
        "outputId": "d746ff74-b3fb-403c-d611-5fb9b5b47513"
      },
      "outputs": [
        {
          "output_type": "stream",
          "name": "stdout",
          "text": [
            "Enter number of rows: 7\n",
            "Generated Hourglass Pattern is: \n",
            "*************\n",
            " ***********\n",
            "  *********\n",
            "   *******\n",
            "    *****\n",
            "     ***\n",
            "      *\n",
            "     ***\n",
            "    *****\n",
            "   *******\n",
            "  *********\n",
            " ***********\n",
            "*************\n"
          ]
        }
      ],
      "source": [
        "# Reading number of rows\n",
        "row = int(input(\"Enter number of rows: \"))\n",
        "\n",
        "print(\"Generated Hourglass Pattern is: \")\n",
        "# Upper-half\n",
        "for i in range(row, 0, -1):\n",
        "    for j in range(row-i):\n",
        "        print(\" \", end=\"\")\n",
        "    for j in range(1, 2*i):\n",
        "        print(\"*\", end=\"\")\n",
        "    print()\n",
        "\n",
        "# Lower-half\n",
        "for i in range(2, row+1):\n",
        "    for j in range(row-i):\n",
        "        print(\" \", end=\"\")\n",
        "    for j in range(1, 2*i):\n",
        "        print(\"*\", end=\"\")\n",
        "    print()"
      ]
    },
    {
      "cell_type": "code",
      "execution_count": null,
      "metadata": {
        "id": "SgG6AA_xp0zH"
      },
      "outputs": [],
      "source": []
    }
  ],
  "metadata": {
    "kernelspec": {
      "display_name": "Python 3 (ipykernel)",
      "language": "python",
      "name": "python3"
    },
    "language_info": {
      "codemirror_mode": {
        "name": "ipython",
        "version": 3
      },
      "file_extension": ".py",
      "mimetype": "text/x-python",
      "name": "python",
      "nbconvert_exporter": "python",
      "pygments_lexer": "ipython3",
      "version": "3.9.7"
    },
    "colab": {
      "provenance": [],
      "include_colab_link": true
    }
  },
  "nbformat": 4,
  "nbformat_minor": 0
}