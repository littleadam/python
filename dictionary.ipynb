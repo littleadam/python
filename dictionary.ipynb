{
  "nbformat": 4,
  "nbformat_minor": 0,
  "metadata": {
    "colab": {
      "provenance": [],
      "authorship_tag": "ABX9TyOVnZ1VEq0KWRZmrCC2zZT5",
      "include_colab_link": true
    },
    "kernelspec": {
      "name": "python3",
      "display_name": "Python 3"
    },
    "language_info": {
      "name": "python"
    }
  },
  "cells": [
    {
      "cell_type": "markdown",
      "metadata": {
        "id": "view-in-github",
        "colab_type": "text"
      },
      "source": [
        "<a href=\"https://colab.research.google.com/github/littleadam/python/blob/main/dictionary.ipynb\" target=\"_parent\"><img src=\"https://colab.research.google.com/assets/colab-badge.svg\" alt=\"Open In Colab\"/></a>"
      ]
    },
    {
      "cell_type": "code",
      "execution_count": 1,
      "metadata": {
        "colab": {
          "base_uri": "https://localhost:8080/"
        },
        "id": "Ithj-izqGEWm",
        "outputId": "22ae3721-37d6-4abd-b5b0-39f1bfa710ec"
      },
      "outputs": [
        {
          "output_type": "stream",
          "name": "stdout",
          "text": [
            "radish\n",
            "squash\n",
            "carrot\n",
            "{'radish': 2, 'squash': 4, 'carrot': 7}\n"
          ]
        }
      ],
      "source": [
        "# 1. Dictionary\n",
        "plants = {\"radish\": 2, \"squash\": 4, \"carrot\": 7}\n",
        "\n",
        "# Loop over dictionary directly.\n",
        "# ... This only accesses keys.\n",
        "for plant in plants:\n",
        "    print(plant)\n",
        "print(plants)"
      ]
    },
    {
      "cell_type": "code",
      "source": [
        "# Copy Dictionary\n",
        "original = {\"box\": 1, \"cat\": 2, \"apple\": 5}\n",
        "\n",
        "# Create copy of dictionary.\n",
        "modified = original.copy()\n",
        "\n",
        "# Change copy only.\n",
        "modified[\"cat\"] = 200\n",
        "modified[\"apple\"] = 9\n",
        "\n",
        "# Original is still the same.\n",
        "print(original)\n",
        "print(modified)"
      ],
      "metadata": {
        "colab": {
          "base_uri": "https://localhost:8080/"
        },
        "id": "KZ9p1NOcGMkG",
        "outputId": "43d9b4a9-7e5f-4a11-b888-4ec0a80b80e6"
      },
      "execution_count": 2,
      "outputs": [
        {
          "output_type": "stream",
          "name": "stdout",
          "text": [
            "{'box': 1, 'cat': 2, 'apple': 5}\n",
            "{'box': 1, 'cat': 200, 'apple': 9}\n"
          ]
        }
      ]
    },
    {
      "cell_type": "code",
      "source": [
        "#Python program that uses len on dictionary\n",
        "\n",
        "animals = {\"parrot\": 2, \"fish\": 6}\n",
        "\n",
        "# Use len built-in on animals.\n",
        "print(animals)\n",
        "print(\"Length:\", len(animals))"
      ],
      "metadata": {
        "colab": {
          "base_uri": "https://localhost:8080/"
        },
        "id": "XPVSyto-GhRW",
        "outputId": "87bf71cb-ce3b-4e11-8d81-2e041a0ec467"
      },
      "execution_count": 3,
      "outputs": [
        {
          "output_type": "stream",
          "name": "stdout",
          "text": [
            "{'parrot': 2, 'fish': 6}\n",
            "Length: 2\n"
          ]
        }
      ]
    },
    {
      "cell_type": "code",
      "source": [
        "# First dictionary.\n",
        "pets1 = {\"cat\": \"feline\", \"dog\": \"canine\"}\n",
        "\n",
        "# Second dictionary.\n",
        "pets2 = {\"dog\": \"animal\", \"parakeet\": \"bird\"}\n",
        "\n",
        "# Update first dictionary with second.\n",
        "pets1.update(pets2)\n",
        "\n",
        "# Display both dictionaries.\n",
        "# The key \"dog\" exists in both dictionaries. Since update() overwrites duplicates, \"dog\" in pets1 changes from \"canine\" to \"animal\".\n",
        "print(pets1)\n",
        "print(pets2)"
      ],
      "metadata": {
        "colab": {
          "base_uri": "https://localhost:8080/"
        },
        "id": "0Hnzy55bGpUG",
        "outputId": "2144bbcf-b964-445c-ce83-52a375b7da34"
      },
      "execution_count": 4,
      "outputs": [
        {
          "output_type": "stream",
          "name": "stdout",
          "text": [
            "{'cat': 'feline', 'dog': 'animal', 'parakeet': 'bird'}\n",
            "{'dog': 'animal', 'parakeet': 'bird'}\n"
          ]
        }
      ]
    },
    {
      "cell_type": "code",
      "source": [
        "#delete\n",
        "systems = {\"mac\": 1, \"windows\": 5, \"linux\": 1}\n",
        "\n",
        "print(systems)\n",
        "\n",
        "print(systems)\n",
        "\n",
        "# Remove key-value at \"windows\" key.\n",
        "del systems[\"windows\"]\n",
        "\n",
        "# Display dictionary.\n",
        "print(systems)"
      ],
      "metadata": {
        "colab": {
          "base_uri": "https://localhost:8080/"
        },
        "id": "LA647-9_G6P1",
        "outputId": "04d4df6c-8994-4029-d350-fb087bb77178"
      },
      "execution_count": 5,
      "outputs": [
        {
          "output_type": "stream",
          "name": "stdout",
          "text": [
            "{'mac': 1, 'windows': 5, 'linux': 1}\n",
            "{'mac': 1, 'windows': 5, 'linux': 1}\n",
            "{'mac': 1, 'linux': 1}\n"
          ]
        }
      ]
    },
    {
      "cell_type": "code",
      "source": [
        "lookup = {\"cat\": \"A domestic animal\", \"dog\": \"A grateful domestic animal\"}\n",
        "\n",
        "#The dictionary has no fish key!\n",
        "print(lookup[\"cat\"])\n",
        "print(lookup[\"dog\"])\n",
        "print(lookup)"
      ],
      "metadata": {
        "colab": {
          "base_uri": "https://localhost:8080/"
        },
        "id": "XstJtHQOJV3C",
        "outputId": "bff97abe-8c31-4de8-f892-9bc93c97fb6e"
      },
      "execution_count": 6,
      "outputs": [
        {
          "output_type": "stream",
          "name": "stdout",
          "text": [
            "A domestic animal\n",
            "A grateful domestic animal\n",
            "{'cat': 'A domestic animal', 'dog': 'A grateful domestic animal'}\n"
          ]
        }
      ]
    },
    {
      "cell_type": "code",
      "source": [
        "#hash table\n",
        "plants = {}\n",
        "\n",
        "# Add three key-value tuples to the dictionary.\n",
        "plants[\"radish\"] = [2,4,\"good\"]\n",
        "plants[\"squash\"] = [1,34,\"bad\"]\n",
        "plants[\"carrot\"] = [4,56,\"yes\"]\n",
        "\n",
        "print(plants)\n",
        "\n",
        "# Get syntax 1.\n",
        "print(plants[\"radish\"])\n",
        "\n",
        "# Get syntax 2.\n",
        "print(plants.get(\"tuna\"))\n",
        "print(plants.get(\"tuna\", \"no tuna found\"))\n",
        "print(plants.get('squash'))\n",
        "sorted(plants)\n",
        "print(plants)"
      ],
      "metadata": {
        "colab": {
          "base_uri": "https://localhost:8080/"
        },
        "id": "GI6qidJuJfNn",
        "outputId": "a4899ed4-00f2-4f62-e453-8d62eeb638a9"
      },
      "execution_count": 7,
      "outputs": [
        {
          "output_type": "stream",
          "name": "stdout",
          "text": [
            "{'radish': [2, 4, 'good'], 'squash': [1, 34, 'bad'], 'carrot': [4, 56, 'yes']}\n",
            "[2, 4, 'good']\n",
            "None\n",
            "no tuna found\n",
            "[1, 34, 'bad']\n",
            "{'radish': [2, 4, 'good'], 'squash': [1, 34, 'bad'], 'carrot': [4, 56, 'yes']}\n"
          ]
        }
      ]
    },
    {
      "cell_type": "code",
      "source": [
        "original = {\"box\": 1, \"cat\": 2, \"apple\": 5}\n",
        "\n",
        "# Create copy of dictionary.\n",
        "modified = original.copy()\n",
        "\n",
        "# Change copy only.\n",
        "modified[\"cat\"] = 200\n",
        "modified[\"apple\"] = 9\n",
        "\n",
        "# Original is still the same.\n",
        "print(original)\n",
        "print(modified)"
      ],
      "metadata": {
        "colab": {
          "base_uri": "https://localhost:8080/"
        },
        "id": "8E0S4hXvJtKy",
        "outputId": "5176c1da-8b70-49ad-cef5-c49098b6ec5d"
      },
      "execution_count": 8,
      "outputs": [
        {
          "output_type": "stream",
          "name": "stdout",
          "text": [
            "{'box': 1, 'cat': 2, 'apple': 5}\n",
            "{'box': 1, 'cat': 200, 'apple': 9}\n"
          ]
        }
      ]
    },
    {
      "cell_type": "code",
      "source": [
        "mydic = { \"4\" : 24, \"5\" : 34 }\n",
        "for key in mydic.items() :\n",
        "    print (key)"
      ],
      "metadata": {
        "colab": {
          "base_uri": "https://localhost:8080/"
        },
        "id": "QZ8OfJ4KKKCj",
        "outputId": "313e56a2-f096-4053-c1e1-d2683863f938"
      },
      "execution_count": 9,
      "outputs": [
        {
          "output_type": "stream",
          "name": "stdout",
          "text": [
            "('4', 24)\n",
            "('5', 34)\n"
          ]
        }
      ]
    },
    {
      "cell_type": "code",
      "source": [
        "dic = {\"key 1\":\"value 1\",\"key b\":\"value b\"}\n",
        "\n",
        "#print the keys:\n",
        "for key in dic.keys():\n",
        "    print(key)\n",
        "\n",
        "#print the values:\n",
        "for value in dic.values():\n",
        "    print(value)\n",
        "\n",
        "#print key and values\n",
        "for key, value in dic.items():\n",
        "    print(key, value)"
      ],
      "metadata": {
        "colab": {
          "base_uri": "https://localhost:8080/"
        },
        "id": "nxyAmfZNKP-_",
        "outputId": "cc35aa14-5a74-4366-8dd3-15b5d0c215f9"
      },
      "execution_count": 10,
      "outputs": [
        {
          "output_type": "stream",
          "name": "stdout",
          "text": [
            "key 1\n",
            "key b\n",
            "value 1\n",
            "value b\n",
            "key 1 value 1\n",
            "key b value b\n"
          ]
        }
      ]
    },
    {
      "cell_type": "code",
      "source": [
        "# highlighting how to use a named variable within a string:\n",
        "dict = {'a': 1, 'b': 2}\n",
        "# highlighting how to use a named variable within a string:\n",
        "dict = {'a': 1, 'b': 2}\n",
        "\n",
        "# simple method:\n",
        "print(\"a %(a)s\" % dict)\n",
        "print(\"b %(b)s\" % dict)\n",
        "\n",
        "# yields:\n",
        "# a 1\n",
        "# b 1\n",
        "\n",
        "\n",
        "# programmatic method:\n",
        "for key in dict:\n",
        "    val = '%('+key+')s'\n",
        "    print(key, val % dict)\n",
        "\n",
        "# yields:\n",
        "# a 1\n",
        "# b 1\n",
        "\n",
        "# using list comprehension\n",
        "print(\"\\n\".join([\"%s: %s\" % (key, ('%('+key+')s') % dict) for key in dict]))\n",
        "\n",
        "# yields:\n",
        "# a: 1\n",
        "# b: 1\n",
        "\n",
        "# yields:\n",
        "# a 1\n",
        "# b 1\n",
        "\n",
        "\n",
        "# programmatic method:\n",
        "# highlighting how to use a named variable within a string:\n",
        "dict = {'a': 1, 'b': 2}\n",
        "# highlighting how to use a named variable within a string:\n",
        "dict = {'a': 1, 'b': 2}\n",
        "\n",
        "# simple method:\n",
        "print(\"a %(a)s\" % dict)\n",
        "print(\"b %(b)s\" % dict)\n",
        "\n",
        "# yields:\n",
        "# a 1\n",
        "# b 1\n",
        "\n",
        "\n",
        "# programmatic method:\n",
        "for key in dict:\n",
        "    val = '%('+key+')s'\n",
        "    print(key, val % dict)\n",
        "\n",
        "# yields:\n",
        "# a 1\n",
        "# b 1\n",
        "\n",
        "# using list comprehension\n",
        "print(\"\\n\".join([\"%s: %s\" % (key, ('%('+key+')s') % dict) for key in dict]))\n",
        "\n",
        "# yields:\n",
        "# a: 1\n",
        "# b: 1\n",
        "\n",
        "# yields:\n",
        "# a 1\n",
        "# b 1\n",
        "\n",
        "\n",
        "# programmatic method:\n",
        "for key in dict:\n",
        "    val = '%('+key+')s'\n",
        "    print(key, val % dict)\n",
        "\n",
        "# yields:\n",
        "# a 1\n",
        "# b 1\n",
        "\n",
        "# using list comprehension\n",
        "print(\"\\n\".join([\"%s: %s\" % (key, ('%('+key+')s') % dict) for key in dict]))\n",
        "\n",
        "# yields:\n",
        "# a: 1\n",
        "# b: 1\n",
        "\n",
        "# a 1\n",
        "# b 1\n",
        "\n",
        "# using list comprehension\n",
        "print (\"\\n\".join([\"%s: %s\" % (key, ('%('+key+')s') % dict) for key in dict]))\n",
        "\n",
        "# yields:\n",
        "# a: 1\n",
        "# b: 1"
      ],
      "metadata": {
        "colab": {
          "base_uri": "https://localhost:8080/"
        },
        "id": "gPXh5CDKKiq4",
        "outputId": "04664d35-e888-46f7-dd44-283ed7b68759"
      },
      "execution_count": 14,
      "outputs": [
        {
          "output_type": "stream",
          "name": "stdout",
          "text": [
            "a 1\n",
            "b 2\n",
            "a 1\n",
            "b 2\n",
            "a: 1\n",
            "b: 2\n",
            "a 1\n",
            "b 2\n",
            "a 1\n",
            "b 2\n",
            "a: 1\n",
            "b: 2\n",
            "a 1\n",
            "b 2\n",
            "a: 1\n",
            "b: 2\n",
            "a: 1\n",
            "b: 2\n"
          ]
        }
      ]
    },
    {
      "cell_type": "code",
      "source": [
        "# Same as previous program.\n",
        "hits = {\"home\": 124, \"sitemap\": 26, \"about\": 32}\n",
        "\n",
        "# Sort the keys from the dictionary.\n",
        "keys = sorted(hits.keys())\n",
        "print(keys)\n",
        "values = sorted(hits.values())\n",
        "print(values)"
      ],
      "metadata": {
        "colab": {
          "base_uri": "https://localhost:8080/"
        },
        "id": "TqLuib08KsOQ",
        "outputId": "811c3164-1e2c-4f80-a193-2bf7fbb77072"
      },
      "execution_count": 15,
      "outputs": [
        {
          "output_type": "stream",
          "name": "stdout",
          "text": [
            "['about', 'home', 'sitemap']\n",
            "[26, 32, 124]\n"
          ]
        }
      ]
    },
    {
      "cell_type": "code",
      "source": [
        "L = ['apple','red','apple','red','red','pear']\n",
        "from collections import defaultdict\n",
        "d = defaultdict(int)\n",
        "for i in L:\n",
        "   d[i] += 1\n",
        "print(d)"
      ],
      "metadata": {
        "colab": {
          "base_uri": "https://localhost:8080/"
        },
        "id": "hQW0AQ3oL3lH",
        "outputId": "5695df85-5280-4e66-b1f2-1126a86aae6a"
      },
      "execution_count": 16,
      "outputs": [
        {
          "output_type": "stream",
          "name": "stdout",
          "text": [
            "defaultdict(<class 'int'>, {'apple': 2, 'red': 3, 'pear': 1})\n"
          ]
        }
      ]
    },
    {
      "cell_type": "code",
      "source": [
        "tel = {'jack': 4098, 'sape': 4139}\n",
        "tel['guido'] = 4127\n",
        "print(tel)\n",
        "print(tel['jack'])\n",
        "\n",
        "#!/usr/bin/python3\n",
        "\n",
        "dict = {'Name': 'Zara', 'Age': 7, 'Class': 'First'}\n",
        "print (\"dict['Name']: \", dict['Name'])\n",
        "print (\"dict['Age']: \", dict['Age'])\n",
        "\n",
        "print(dict['Name'])\n",
        "print(dict['Age'])\n",
        "\n",
        "dict = {'Name': 'Zara', 'Age': 7, 'Class': 'First'}\n",
        "dict['Age'] = 8; # update existing entry\n",
        "dict['School'] = \"DPS School\" # Add new entry\n",
        "\n",
        "print (\"dict['Age']: \", dict['Age'])\n",
        "print (\"dict['School']: \", dict['School'])\n",
        "\n",
        "#!/usr/bin/python3\n",
        "\n",
        "dict = {'Name': 'Zara', 'Age': 7, 'Class': 'First'}\n",
        "\n",
        "del dict['Name'] # remove entry with key 'Name'\n",
        "dict.clear()     # remove all entries in dict\n",
        "del dict         # delete entire dictionary\n",
        "\n",
        "#print(\"dict['Age']: \", dict['Age'])   # this will give error since\n",
        "#print(\"dict['School']: \", dict['School'])  #dictionary is deleted"
      ],
      "metadata": {
        "colab": {
          "base_uri": "https://localhost:8080/"
        },
        "id": "npkCUNQwMDEN",
        "outputId": "c6982967-04f2-4ae6-a615-f45db6482f1f"
      },
      "execution_count": 17,
      "outputs": [
        {
          "output_type": "stream",
          "name": "stdout",
          "text": [
            "{'jack': 4098, 'sape': 4139, 'guido': 4127}\n",
            "4098\n",
            "dict['Name']:  Zara\n",
            "dict['Age']:  7\n",
            "Zara\n",
            "7\n",
            "dict['Age']:  8\n",
            "dict['School']:  DPS School\n"
          ]
        }
      ]
    },
    {
      "cell_type": "code",
      "source": [
        "animals = {}\n",
        "animals[\"monkey\"] = 1\n",
        "animals[\"tuna\"] = 2\n",
        "animals[\"giraffe\"] = 4\n",
        "print(animals)\n",
        "print()\n",
        "\n",
        "# Use in.\n",
        "if \"tuna\" in animals:\n",
        "    print(\"Has tuna\")\n",
        "else:\n",
        "    print(\"No tuna\")\n",
        "\n",
        "# Use in on nonexistent key.\n",
        "if \"elephant\" in animals:\n",
        "    print(\"Has elephant\")\n",
        "else:\n",
        "    print(\"No elephant\")"
      ],
      "metadata": {
        "colab": {
          "base_uri": "https://localhost:8080/"
        },
        "id": "SeE3Dd5RMvBn",
        "outputId": "ea4a0f1b-9ce0-4176-8188-67655c5e6c31"
      },
      "execution_count": 18,
      "outputs": [
        {
          "output_type": "stream",
          "name": "stdout",
          "text": [
            "{'monkey': 1, 'tuna': 2, 'giraffe': 4}\n",
            "\n",
            "Has tuna\n",
            "No elephant\n"
          ]
        }
      ]
    },
    {
      "cell_type": "code",
      "source": [
        "hits = {\"home\": 125, \"sitemap\": 27, \"about\": 43}\n",
        "\n",
        "keys = hits.keys()\n",
        "values = hits.values()\n",
        "\n",
        "print(\"Keys:\")\n",
        "print(keys)\n",
        "print(len(keys))\n",
        "\n",
        "print(\"Values:\")\n",
        "print(values)\n",
        "print(len(values))"
      ],
      "metadata": {
        "colab": {
          "base_uri": "https://localhost:8080/"
        },
        "id": "3DDanwE-NHLl",
        "outputId": "7a12c5bd-8457-49d6-bd25-4c02ab260b6e"
      },
      "execution_count": 19,
      "outputs": [
        {
          "output_type": "stream",
          "name": "stdout",
          "text": [
            "Keys:\n",
            "dict_keys(['home', 'sitemap', 'about'])\n",
            "3\n",
            "Values:\n",
            "dict_values([125, 27, 43])\n",
            "3\n"
          ]
        }
      ]
    },
    {
      "cell_type": "code",
      "source": [
        "newdict = {\"a\": 1, \"b\": 2, \"c\": 3}\n",
        "for key in newdict.keys():\n",
        "  print(key)"
      ],
      "metadata": {
        "colab": {
          "base_uri": "https://localhost:8080/"
        },
        "id": "cgWBHVadNSuc",
        "outputId": "077bbe60-8dcd-46d9-8711-5887f35d7a68"
      },
      "execution_count": 21,
      "outputs": [
        {
          "output_type": "stream",
          "name": "stdout",
          "text": [
            "a\n",
            "b\n",
            "c\n"
          ]
        }
      ]
    },
    {
      "cell_type": "code",
      "source": [
        "a = {\n",
        "'x' : 1,\n",
        "'y' : 2,\n",
        "'z' : 3\n",
        "}\n",
        "\n",
        "b = {\n",
        "'w' : 10,\n",
        "'x' : 11,\n",
        "'y' : 2\n",
        "}\n",
        "\n",
        "\n",
        "print(a.keys() & b.keys()) # { 'x', 'y' }\n",
        "print(a.keys() - b.keys()) # { 'z' }\n",
        "print(a.items() & b.items()) # { ('y', 2) }\n",
        "\n",
        "c = {key:a[key] for key in a.keys() - {'z', 'w'}}\n",
        "print(c)"
      ],
      "metadata": {
        "colab": {
          "base_uri": "https://localhost:8080/"
        },
        "id": "j7MALY08NaBd",
        "outputId": "7c91fbd9-510f-4860-b606-30b66c864b15"
      },
      "execution_count": 22,
      "outputs": [
        {
          "output_type": "stream",
          "name": "stdout",
          "text": [
            "{'x', 'y'}\n",
            "{'z'}\n",
            "{('y', 2)}\n",
            "{'x': 1, 'y': 2}\n"
          ]
        }
      ]
    },
    {
      "cell_type": "code",
      "source": [
        "students = {}\n",
        "\n",
        "# Add three key-value tuples to the dictionary.\n",
        "students[\"Vaishnavi\"] = [2,4]\n",
        "students[\"Jothi\"] = [1,34]\n",
        "students[\"Karthik\"] = [4,56]\n",
        "students[\"Jayashree\"] = [20.3,4.5]\n",
        "students[\"Raju\"] = [20,4]\n",
        "students[\"Lakshman\"] = [50.3,4.5]\n",
        "students[\"Raman\"] = [20.3,1.5]\n",
        "students[\"John\"] = [20.3,3.5]\n",
        "students[\"Godspeed\"] = [2.3,4]\n",
        "students[\"Angelina\"] = [20.3,45]\n",
        "students[\"Kumar\"] = [20.3,4.5]\n",
        "students[\"Kirthika\"] = [20.3,4.5]\n",
        "students[\"Ranjith\"] = [20.3,4.5]\n",
        "students[\"Maravan\"] = [20.3,4.5]\n",
        "students[\"Sanjeev\"] = [20.3,4.5]\n",
        "students[\"Devasagayam\"] = [20.3,4.5]\n",
        "\n",
        "# Get syntax 1.\n",
        "print(students[\"Vaishnavi\"])\n",
        "\n",
        "# Get syntax 2.\n",
        "print(students.get(\"Raghu\"))\n",
        "print(students.get(\"Raghu\", \"Raghu not found\"))\n",
        "print(students.get('Vaishnavi'))\n",
        "print(sorted(students))\n",
        "print(students[\"Raju\"][1])\n",
        "#print(students)"
      ],
      "metadata": {
        "colab": {
          "base_uri": "https://localhost:8080/"
        },
        "id": "g5cUMdkENpIA",
        "outputId": "0072a0db-6bf5-4c8a-8cfe-e2e4a582be46"
      },
      "execution_count": 23,
      "outputs": [
        {
          "output_type": "stream",
          "name": "stdout",
          "text": [
            "[2, 4]\n",
            "None\n",
            "Raghu not found\n",
            "[2, 4]\n",
            "['Angelina', 'Devasagayam', 'Godspeed', 'Jayashree', 'John', 'Jothi', 'Karthik', 'Kirthika', 'Kumar', 'Lakshman', 'Maravan', 'Raju', 'Raman', 'Ranjith', 'Sanjeev', 'Vaishnavi']\n",
            "4\n"
          ]
        }
      ]
    },
    {
      "cell_type": "code",
      "source": [
        "rents = {\"apartment\": 1000, \"house\": 1300}\n",
        "\n",
        "# Convert to list of tuples.\n",
        "rentItems = rents.items()\n",
        "\n",
        "# Loop and display tuple items.\n",
        "for rentItem in rentItems:\n",
        "    print(\"Place:\", rentItem[0])\n",
        "    print(\"Cost:\", rentItem[1])\n",
        "    print(\"\")\n",
        "\n",
        "print(rentItems)\n",
        "print(rents)"
      ],
      "metadata": {
        "colab": {
          "base_uri": "https://localhost:8080/"
        },
        "id": "DlPRWPYWN5q1",
        "outputId": "e88bb626-cd13-47a4-9801-022b0935c1a9"
      },
      "execution_count": 24,
      "outputs": [
        {
          "output_type": "stream",
          "name": "stdout",
          "text": [
            "Place: apartment\n",
            "Cost: 1000\n",
            "\n",
            "Place: house\n",
            "Cost: 1300\n",
            "\n",
            "dict_items([('apartment', 1000), ('house', 1300)])\n",
            "{'apartment': 1000, 'house': 1300}\n"
          ]
        }
      ]
    },
    {
      "cell_type": "code",
      "source": [
        "# Create a dictionary.\n",
        "data = {\"a\": 1, \"b\": 2, \"c\": 3}\n",
        "\n",
        "# Loop over items and unpack each item.\n",
        "for k, v in data.items():\n",
        "    # Display key and value.\n",
        "    print(k, v)"
      ],
      "metadata": {
        "colab": {
          "base_uri": "https://localhost:8080/"
        },
        "id": "mrtiOnpqORUi",
        "outputId": "f1b3bff6-5507-40b0-bc05-09dffab07a60"
      },
      "execution_count": 25,
      "outputs": [
        {
          "output_type": "stream",
          "name": "stdout",
          "text": [
            "a 1\n",
            "b 2\n",
            "c 3\n"
          ]
        }
      ]
    },
    {
      "cell_type": "code",
      "source": [
        "from operator import itemgetter\n",
        "from itertools import groupby\n",
        "\n",
        "rows = [\n",
        "{'address': '5412 N CLARK', 'date': '07/01/2012'},\n",
        "{'address': '5148 N CLARK', 'date': '07/04/2012'},\n",
        "{'address': '5800 E 58TH', 'date': '07/02/2012'},\n",
        "{'address': '2122 N CLARK', 'date': '07/03/2012'},\n",
        "{'address': '5645 N RAVENSWOOD', 'date': '07/02/2012'},\n",
        "{'address': '1060 W ADDISON', 'date': '07/02/2012'},\n",
        "{'address': '4801 N BROADWAY', 'date': '07/01/2012'},\n",
        "{'address': '1039 W GRANVILLE', 'date': '07/04/2012'},\n",
        "]\n",
        "\n",
        "# Sort by the desired field first\n",
        "rows.sort(key=itemgetter('date'))\n",
        "# Iterate in groups\n",
        "for date, items in groupby(rows, key=itemgetter('date')):\n",
        "    print(date)\n",
        "for i in items:\n",
        "    print(' ', i)"
      ],
      "metadata": {
        "colab": {
          "base_uri": "https://localhost:8080/"
        },
        "id": "fFaHKgshOXht",
        "outputId": "0d40ff68-eac4-4171-ce6e-91253bc898e4"
      },
      "execution_count": 26,
      "outputs": [
        {
          "output_type": "stream",
          "name": "stdout",
          "text": [
            "07/01/2012\n",
            "07/02/2012\n",
            "07/03/2012\n",
            "07/04/2012\n"
          ]
        }
      ]
    },
    {
      "cell_type": "code",
      "source": [
        "from operator import itemgetter\n",
        "rows = [\n",
        "{'fname': 'Brian', 'lname': 'Jones', 'uid': 1003},\n",
        "{'fname': 'David', 'lname': 'Beazley', 'uid': 1002},\n",
        "{'fname': 'John', 'lname': 'Cleese', 'uid': 1001},\n",
        "{'fname': 'Big', 'lname': 'Jones', 'uid': 1004}\n",
        "]\n",
        "rows_by_fname = sorted(rows, key=itemgetter('fname'))\n",
        "rows_by_uid = sorted(rows, key=itemgetter('uid'))\n",
        "print(rows_by_fname)\n",
        "print(rows_by_uid)\n",
        "\n",
        "rows_by_fname = sorted(rows, key=lambda r: r['fname'])\n",
        "rows_by_lfname = sorted(rows, key=lambda r: (r['lname'],r['fname']))\n",
        "\n",
        "print(rows_by_fname)\n",
        "print(rows_by_lfname)\n",
        "\n",
        "print(min(rows, key=itemgetter('uid')))\n",
        "print(max(rows, key=itemgetter('uid')))"
      ],
      "metadata": {
        "colab": {
          "base_uri": "https://localhost:8080/"
        },
        "id": "yt-NyFHSOb3N",
        "outputId": "aeae4fc8-6406-47e2-97e2-e7187bbf6b6d"
      },
      "execution_count": 27,
      "outputs": [
        {
          "output_type": "stream",
          "name": "stdout",
          "text": [
            "[{'fname': 'Big', 'lname': 'Jones', 'uid': 1004}, {'fname': 'Brian', 'lname': 'Jones', 'uid': 1003}, {'fname': 'David', 'lname': 'Beazley', 'uid': 1002}, {'fname': 'John', 'lname': 'Cleese', 'uid': 1001}]\n",
            "[{'fname': 'John', 'lname': 'Cleese', 'uid': 1001}, {'fname': 'David', 'lname': 'Beazley', 'uid': 1002}, {'fname': 'Brian', 'lname': 'Jones', 'uid': 1003}, {'fname': 'Big', 'lname': 'Jones', 'uid': 1004}]\n",
            "[{'fname': 'Big', 'lname': 'Jones', 'uid': 1004}, {'fname': 'Brian', 'lname': 'Jones', 'uid': 1003}, {'fname': 'David', 'lname': 'Beazley', 'uid': 1002}, {'fname': 'John', 'lname': 'Cleese', 'uid': 1001}]\n",
            "[{'fname': 'David', 'lname': 'Beazley', 'uid': 1002}, {'fname': 'John', 'lname': 'Cleese', 'uid': 1001}, {'fname': 'Big', 'lname': 'Jones', 'uid': 1004}, {'fname': 'Brian', 'lname': 'Jones', 'uid': 1003}]\n",
            "{'fname': 'John', 'lname': 'Cleese', 'uid': 1001}\n",
            "{'fname': 'Big', 'lname': 'Jones', 'uid': 1004}\n"
          ]
        }
      ]
    },
    {
      "cell_type": "code",
      "source": [
        "#Dictionary literals\n",
        "\n",
        "# Method 1\n",
        "\n",
        "#Perhaps the most commonly used way of constructing a python dictionary is with\n",
        "#curly bracket syntax:\n",
        "\n",
        "d1 = {\"age\":25}\n",
        "print(d1)\n",
        "\n",
        "\n",
        "# Method 2\n",
        "\n",
        "#As dictionaries are mutable, you need not know all the entries in advance:\n",
        "# Empty dict\n",
        "\n",
        "d2 = {}\n",
        "# Fill in the entries one by one\n",
        "d2[\"name\"] = \"Jayashree\"\n",
        "print(d2)\n",
        "\n",
        "\n",
        "# Method 3\n",
        "\n",
        "#From a list of tuples\n",
        "\n",
        "#You can also construct a dictionary from a list (or any iterable) of\n",
        "#key, value pairs. For instance:\n",
        "\n",
        "\n",
        "d3 = dict([(\"age\", 25)])\n",
        "print(d3)\n",
        "\n",
        "\n",
        "# Method 4\n",
        "\n",
        "#This is perhaps most useful in the context of a list comprehension:\n",
        "\n",
        "class Person(object):\n",
        "    def __init__(self, name, profession):\n",
        "        self.name = name\n",
        "        self.profession = profession\n",
        "\n",
        "people = [Person(\"Nick\", \"Programmer\"), Person(\"Alice\",\"Engineer\")]\n",
        "professions = dict([ (p.name, p.profession) for p in people ])\n",
        "print(professions)\n",
        "#{\"Nick\": \"Programmer\", \"Alice\": \"Engineer\"}\n",
        "\n",
        "\n",
        "# Method 5\n",
        "\n",
        "#From two parallel lists\n",
        "\n",
        "#This method of constructing a dictionary is intimately related to the prior example.\n",
        "#Say you have two lists of elements, perhaps pulled from a database table:\n",
        "\n",
        "# Static lists for purpose of illustration\n",
        "names = [\"Nick\", \"Alice\", \"Kitty\"]\n",
        "professions = [\"Programmer\", \"Engineer\", \"Art Therapist\"]\n",
        "\n",
        "#If you wished to create a dictionary from name to profession, you\n",
        "#could do the following:\n",
        "\n",
        "professions_dict = {}\n",
        "for i in range(len(names)):\n",
        "    professions_dict[names[i]] = professions[i]\n",
        "print(professions_dict)\n",
        "\n",
        "#This is not ideal, however, as it involves an explicit iterator, and is\n",
        "#starting to look like Java. The more Pythonic way to handle this case would\n",
        "#be to use the zip method, which combines two iterables:\n",
        "\n",
        "\n",
        "print(zip(range(5), [\"a\",\"b\",\"c\",\"d\",\"e\"]))\n",
        "\n",
        "names_and_professions = zip(names, professions)\n",
        "print(names_and_professions)\n",
        "\n",
        "for name, profession in names_and_professions:\n",
        "    professions_dict[name] = profession\n",
        "\n",
        "#As you can see, this is extremely similar to the previous section. You can\n",
        "#dispense the iteration, and instead use the dict method:\n",
        "\n",
        "professions_dict = dict(names_and_professions)\n",
        "# You can dispence the extra variable and create an anonymous\n",
        "# zipped list:\n",
        "professions_dict = dict(zip(names, professions))\n",
        "print(professions_dict)"
      ],
      "metadata": {
        "colab": {
          "base_uri": "https://localhost:8080/"
        },
        "id": "Nwh_b1qaOg_c",
        "outputId": "f79cf899-4710-4eb8-95a7-996e7ddc4830"
      },
      "execution_count": 28,
      "outputs": [
        {
          "output_type": "stream",
          "name": "stdout",
          "text": [
            "{'age': 25}\n",
            "{'name': 'Jayashree'}\n",
            "{'age': 25}\n",
            "{'Nick': 'Programmer', 'Alice': 'Engineer'}\n",
            "{'Nick': 'Programmer', 'Alice': 'Engineer', 'Kitty': 'Art Therapist'}\n",
            "<zip object at 0x7900dbbd1480>\n",
            "<zip object at 0x7900dbbd1480>\n",
            "{'Nick': 'Programmer', 'Alice': 'Engineer', 'Kitty': 'Art Therapist'}\n"
          ]
        }
      ]
    },
    {
      "cell_type": "code",
      "source": [
        "newdict = {1:2.9, \"Karthik G\":35, 45:23, 23.34:\"Ram\"}\n",
        "print(newdict)  #immutable\n",
        "\n",
        "for items in newdict:\n",
        "    print(items)\n",
        "\n",
        "it = iter(newdict)\n",
        "print(next(it))\n",
        "print(next(it))\n",
        "print(next(it))\n",
        "\n",
        "print(newdict[1])\n",
        "#newdict.append(45:\"Ravi\")\n",
        "print(newdict)\n",
        "\n",
        "anotherdict = {\"Manooj\":34, 45.66: \"MeghaDharshini\", 45:(34,\"Jayashree\")}\n",
        "print(anotherdict)\n",
        "#anotherdict.append({34:10})\n",
        "print(anotherdict)\n",
        "\n",
        "seconddict = {4:[45,56,78], 56:[23,43,10], \"Ravikiran\":[31,23,45], 23:{24:1}}\n",
        "print(seconddict)\n",
        "print(seconddict[56])\n",
        "\n",
        "thirddict = {23:[{34:45},[34,'l']]}\n",
        "print(thirddict)"
      ],
      "metadata": {
        "colab": {
          "base_uri": "https://localhost:8080/"
        },
        "id": "EJOMo37WOmqz",
        "outputId": "b9983af9-cd65-4f19-bba0-12ca3a43a1f8"
      },
      "execution_count": 29,
      "outputs": [
        {
          "output_type": "stream",
          "name": "stdout",
          "text": [
            "{1: 2.9, 'Karthik G': 35, 45: 23, 23.34: 'Ram'}\n",
            "1\n",
            "Karthik G\n",
            "45\n",
            "23.34\n",
            "1\n",
            "Karthik G\n",
            "45\n",
            "2.9\n",
            "{1: 2.9, 'Karthik G': 35, 45: 23, 23.34: 'Ram'}\n",
            "{'Manooj': 34, 45.66: 'MeghaDharshini', 45: (34, 'Jayashree')}\n",
            "{'Manooj': 34, 45.66: 'MeghaDharshini', 45: (34, 'Jayashree')}\n",
            "{4: [45, 56, 78], 56: [23, 43, 10], 'Ravikiran': [31, 23, 45], 23: {24: 1}}\n",
            "[23, 43, 10]\n",
            "{23: [{34: 45}, [34, 'l']]}\n"
          ]
        }
      ]
    },
    {
      "cell_type": "code",
      "source": [
        "mydict = {'Lemonade': [\"1\", \"45\", \"87\"], 'Coke': [\"23\", \"9\", \"23\"], 'Water': [\"98\", \"127\"]}\n",
        "for imp in mydict:\n",
        "  print(imp)\n",
        "  print(mydict[imp])\n",
        "\n",
        "for key,val in mydict.items():\n",
        "  print(key)\n",
        "  print(val)\n",
        "\n",
        "x = mydict.keys()\n",
        "y = mydict.values()\n",
        "\n",
        "print(x)\n",
        "print(y)\n",
        "\n",
        "print(mydict.keys())\n",
        "print(mydict.values())\n",
        "\n",
        "x = (23,34)\n",
        "y = ((23,56),(34,\"Jayashree\"))\n",
        "print(y)\n",
        "\n",
        "karthik = { y:\"BadriNarayanan\" }\n",
        "print(karthik)\n",
        "print(karthik[((23, 56), (34, 'Jayashree'))])\n",
        "print(karthik[y])\n",
        "\n",
        "guru = { (3,4):\"BadriNarayanan\"}\n",
        "print(guru)\n",
        "\n",
        "dictone = { x:100, x[1]:105 }\n",
        "print(dictone.keys())\n",
        "print(dictone.values())\n",
        "print(dictone)\n",
        "dicttwo = {y:100} # this will product \"TypeError: unhashable type: 'list'\"\n",
        "# this error comes because the key should be immutable. This means a list\n",
        "#cannot be used as the key. Comment the above line to remove this error (line number 28)\n",
        "dicttwo = {y[1]:100}\n",
        "print(dicttwo)\n",
        "\n",
        "\n",
        "myset =  { 34, \"guru\", \"karthik\" }\n",
        "print(myset)"
      ],
      "metadata": {
        "colab": {
          "base_uri": "https://localhost:8080/"
        },
        "id": "XiTcNsLyOrtt",
        "outputId": "9b9a5f50-7f66-4813-a115-3f232d00ba83"
      },
      "execution_count": 30,
      "outputs": [
        {
          "output_type": "stream",
          "name": "stdout",
          "text": [
            "Lemonade\n",
            "['1', '45', '87']\n",
            "Coke\n",
            "['23', '9', '23']\n",
            "Water\n",
            "['98', '127']\n",
            "Lemonade\n",
            "['1', '45', '87']\n",
            "Coke\n",
            "['23', '9', '23']\n",
            "Water\n",
            "['98', '127']\n",
            "dict_keys(['Lemonade', 'Coke', 'Water'])\n",
            "dict_values([['1', '45', '87'], ['23', '9', '23'], ['98', '127']])\n",
            "dict_keys(['Lemonade', 'Coke', 'Water'])\n",
            "dict_values([['1', '45', '87'], ['23', '9', '23'], ['98', '127']])\n",
            "((23, 56), (34, 'Jayashree'))\n",
            "{((23, 56), (34, 'Jayashree')): 'BadriNarayanan'}\n",
            "BadriNarayanan\n",
            "BadriNarayanan\n",
            "{(3, 4): 'BadriNarayanan'}\n",
            "dict_keys([(23, 34), 34])\n",
            "dict_values([100, 105])\n",
            "{(23, 34): 100, 34: 105}\n",
            "{(34, 'Jayashree'): 100}\n",
            "{34, 'karthik', 'guru'}\n"
          ]
        }
      ]
    },
    {
      "cell_type": "code",
      "source": [
        "one = {i: i**2 for i in range(5)}\n",
        "print(one)\n",
        "\n",
        "\n",
        "d = {}\n",
        "for i in range(5):\n",
        "    d[i] = i**2\n",
        "print(d)\n",
        "\n",
        "\n",
        "def gen():\n",
        "    for i in range(5):\n",
        "        yield i\n",
        "\n",
        "print(gen)\n",
        "p = gen()\n",
        "p = gen()\n",
        "print(p)\n",
        "print(gen)\n",
        "\n",
        "\n",
        "gen = (i for i in range(5))\n",
        "p = next(gen)\n",
        "print(p)\n",
        "q = next(gen)\n",
        "print(q)\n",
        "one = list(gen)\n",
        "print(one)\n",
        "#q = next(gen)\n",
        "#print(q)\n",
        "#Traceback (most recent call last):\n",
        "#  File \"<input>\", line 1, in <module>\n",
        "#StopIteration\n",
        "\n",
        "\n",
        "prices = {\n",
        "'ACME': 45.23,\n",
        "'AAPL': 612.78,\n",
        "'IBM': 205.55,\n",
        "'HPQ': 37.20,\n",
        "'FB': 10.75\n",
        "}\n",
        "# Make a dictionary of all prices over 200\n",
        "p1 = { key:value for key, value in prices.items() if value > 200 }\n",
        "# Make a dictionary of tech stocks\n",
        "tech_names = { 'AAPL', 'IBM', 'HPQ', 'MSFT' }\n",
        "p2 = { key:value for key,value in prices.items() if key in tech_names }\n",
        "print(p1)\n",
        "print(p2)"
      ],
      "metadata": {
        "colab": {
          "base_uri": "https://localhost:8080/"
        },
        "id": "WGbewGsKOw3I",
        "outputId": "df311cd6-be2b-4429-8d0f-e0103bde0b3f"
      },
      "execution_count": 31,
      "outputs": [
        {
          "output_type": "stream",
          "name": "stdout",
          "text": [
            "{0: 0, 1: 1, 2: 4, 3: 9, 4: 16}\n",
            "{0: 0, 1: 1, 2: 4, 3: 9, 4: 16}\n",
            "<function gen at 0x7900e9091900>\n",
            "<generator object gen at 0x7900d82018c0>\n",
            "<function gen at 0x7900e9091900>\n",
            "0\n",
            "1\n",
            "[2, 3, 4]\n",
            "{'AAPL': 612.78, 'IBM': 205.55}\n",
            "{'AAPL': 612.78, 'IBM': 205.55, 'HPQ': 37.2}\n"
          ]
        }
      ]
    },
    {
      "cell_type": "code",
      "source": [
        "from heapq import nlargest\n",
        "my_dict = {'a':500, 'b':5874, 'c': 560,'d':400, 'e':5874, 'f': 20}\n",
        "three_largest = nlargest(3, my_dict, key=my_dict.get)\n",
        "print(three_largest)"
      ],
      "metadata": {
        "colab": {
          "base_uri": "https://localhost:8080/"
        },
        "id": "8qi7ZJO6O1nl",
        "outputId": "55575847-dd8a-4af1-971b-931178f791ac"
      },
      "execution_count": 32,
      "outputs": [
        {
          "output_type": "stream",
          "name": "stdout",
          "text": [
            "['b', 'e', 'c']\n"
          ]
        }
      ]
    },
    {
      "cell_type": "code",
      "source": [
        "mydict = {'Lemonade': [\"1\", \"45\", \"87\"], 'Coke': [\"23\", \"9\", \"23\"], 'Water': [\"98\", \"127\"]}\n",
        "for imp in mydict:\n",
        "  print(imp)\n",
        "  print(mydict[imp])\n",
        "\n",
        "for key,val in mydict.items():\n",
        "  print(key)\n",
        "  print(val)\n",
        "\n",
        "x = mydict.keys()\n",
        "y = mydict.values()\n",
        "\n",
        "print(x)\n",
        "print(y)\n",
        "\n",
        "print(mydict.keys())\n",
        "print(mydict.values())\n",
        "\n",
        "x = (23,34)\n",
        "\n",
        "dictone = { x:100, x[1]:105 }\n",
        "print(dictone)"
      ],
      "metadata": {
        "colab": {
          "base_uri": "https://localhost:8080/"
        },
        "id": "Jt3CtWXmO6yj",
        "outputId": "d95b09f8-7a9d-4695-a4db-c10e211fb0b5"
      },
      "execution_count": 33,
      "outputs": [
        {
          "output_type": "stream",
          "name": "stdout",
          "text": [
            "Lemonade\n",
            "['1', '45', '87']\n",
            "Coke\n",
            "['23', '9', '23']\n",
            "Water\n",
            "['98', '127']\n",
            "Lemonade\n",
            "['1', '45', '87']\n",
            "Coke\n",
            "['23', '9', '23']\n",
            "Water\n",
            "['98', '127']\n",
            "dict_keys(['Lemonade', 'Coke', 'Water'])\n",
            "dict_values([['1', '45', '87'], ['23', '9', '23'], ['98', '127']])\n",
            "dict_keys(['Lemonade', 'Coke', 'Water'])\n",
            "dict_values([['1', '45', '87'], ['23', '9', '23'], ['98', '127']])\n",
            "{(23, 34): 100, 34: 105}\n"
          ]
        }
      ]
    },
    {
      "cell_type": "code",
      "source": [
        "from collections import Counter\n",
        "words = [\n",
        "'look', 'into', 'my', 'eyes', 'look', 'into', 'my', 'eyes',\n",
        "'the', 'eyes', 'the', 'eyes', 'the', 'eyes', 'not', 'around', 'the',\n",
        "'eyes', \"don't\", 'look', 'around', 'the', 'eyes', 'look', 'into',\n",
        "'my', 'eyes', \"you're\", 'under'\n",
        "]\n",
        "word_counts = Counter(words)\n",
        "print(word_counts)\n",
        "top_three = word_counts.most_common(3)\n",
        "print(top_three)\n",
        "\n",
        "morewords = ['why','are','you','not','looking','in','my','eyes']\n",
        "for word in morewords:\n",
        "    word_counts[word] += 1\n",
        "print(word_counts)"
      ],
      "metadata": {
        "colab": {
          "base_uri": "https://localhost:8080/"
        },
        "id": "l-QcLpViO_MU",
        "outputId": "6c364fdd-8eda-4862-eefe-32e65d6706a9"
      },
      "execution_count": 34,
      "outputs": [
        {
          "output_type": "stream",
          "name": "stdout",
          "text": [
            "Counter({'eyes': 8, 'the': 5, 'look': 4, 'into': 3, 'my': 3, 'around': 2, 'not': 1, \"don't\": 1, \"you're\": 1, 'under': 1})\n",
            "[('eyes', 8), ('the', 5), ('look', 4)]\n",
            "Counter({'eyes': 9, 'the': 5, 'look': 4, 'my': 4, 'into': 3, 'not': 2, 'around': 2, \"don't\": 1, \"you're\": 1, 'under': 1, 'why': 1, 'are': 1, 'you': 1, 'looking': 1, 'in': 1})\n"
          ]
        }
      ]
    },
    {
      "cell_type": "code",
      "source": [],
      "metadata": {
        "id": "yMYNZnz8PD-M"
      },
      "execution_count": null,
      "outputs": []
    }
  ]
}