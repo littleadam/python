{
  "nbformat": 4,
  "nbformat_minor": 0,
  "metadata": {
    "colab": {
      "provenance": [],
      "authorship_tag": "ABX9TyM0FIr1cur2FA6KU6bJbyIo",
      "include_colab_link": true
    },
    "kernelspec": {
      "name": "python3",
      "display_name": "Python 3"
    },
    "language_info": {
      "name": "python"
    }
  },
  "cells": [
    {
      "cell_type": "markdown",
      "metadata": {
        "id": "view-in-github",
        "colab_type": "text"
      },
      "source": [
        "<a href=\"https://colab.research.google.com/github/littleadam/python/blob/main/dictionary.ipynb\" target=\"_parent\"><img src=\"https://colab.research.google.com/assets/colab-badge.svg\" alt=\"Open In Colab\"/></a>"
      ]
    },
    {
      "cell_type": "code",
      "execution_count": 1,
      "metadata": {
        "colab": {
          "base_uri": "https://localhost:8080/"
        },
        "id": "Ithj-izqGEWm",
        "outputId": "22ae3721-37d6-4abd-b5b0-39f1bfa710ec"
      },
      "outputs": [
        {
          "output_type": "stream",
          "name": "stdout",
          "text": [
            "radish\n",
            "squash\n",
            "carrot\n",
            "{'radish': 2, 'squash': 4, 'carrot': 7}\n"
          ]
        }
      ],
      "source": [
        "# 1. Dictionary\n",
        "plants = {\"radish\": 2, \"squash\": 4, \"carrot\": 7}\n",
        "\n",
        "# Loop over dictionary directly.\n",
        "# ... This only accesses keys.\n",
        "for plant in plants:\n",
        "    print(plant)\n",
        "print(plants)"
      ]
    },
    {
      "cell_type": "code",
      "source": [
        "# Copy Dictionary\n",
        "original = {\"box\": 1, \"cat\": 2, \"apple\": 5}\n",
        "\n",
        "# Create copy of dictionary.\n",
        "modified = original.copy()\n",
        "\n",
        "# Change copy only.\n",
        "modified[\"cat\"] = 200\n",
        "modified[\"apple\"] = 9\n",
        "\n",
        "# Original is still the same.\n",
        "print(original)\n",
        "print(modified)"
      ],
      "metadata": {
        "colab": {
          "base_uri": "https://localhost:8080/"
        },
        "id": "KZ9p1NOcGMkG",
        "outputId": "43d9b4a9-7e5f-4a11-b888-4ec0a80b80e6"
      },
      "execution_count": 2,
      "outputs": [
        {
          "output_type": "stream",
          "name": "stdout",
          "text": [
            "{'box': 1, 'cat': 2, 'apple': 5}\n",
            "{'box': 1, 'cat': 200, 'apple': 9}\n"
          ]
        }
      ]
    },
    {
      "cell_type": "code",
      "source": [
        "#Python program that uses len on dictionary\n",
        "\n",
        "animals = {\"parrot\": 2, \"fish\": 6}\n",
        "\n",
        "# Use len built-in on animals.\n",
        "print(animals)\n",
        "print(\"Length:\", len(animals))"
      ],
      "metadata": {
        "colab": {
          "base_uri": "https://localhost:8080/"
        },
        "id": "XPVSyto-GhRW",
        "outputId": "87bf71cb-ce3b-4e11-8d81-2e041a0ec467"
      },
      "execution_count": 3,
      "outputs": [
        {
          "output_type": "stream",
          "name": "stdout",
          "text": [
            "{'parrot': 2, 'fish': 6}\n",
            "Length: 2\n"
          ]
        }
      ]
    },
    {
      "cell_type": "code",
      "source": [
        "# First dictionary.\n",
        "pets1 = {\"cat\": \"feline\", \"dog\": \"canine\"}\n",
        "\n",
        "# Second dictionary.\n",
        "pets2 = {\"dog\": \"animal\", \"parakeet\": \"bird\"}\n",
        "\n",
        "# Update first dictionary with second.\n",
        "pets1.update(pets2)\n",
        "\n",
        "# Display both dictionaries.\n",
        "# The key \"dog\" exists in both dictionaries. Since update() overwrites duplicates, \"dog\" in pets1 changes from \"canine\" to \"animal\".\n",
        "print(pets1)\n",
        "print(pets2)"
      ],
      "metadata": {
        "colab": {
          "base_uri": "https://localhost:8080/"
        },
        "id": "0Hnzy55bGpUG",
        "outputId": "2144bbcf-b964-445c-ce83-52a375b7da34"
      },
      "execution_count": 4,
      "outputs": [
        {
          "output_type": "stream",
          "name": "stdout",
          "text": [
            "{'cat': 'feline', 'dog': 'animal', 'parakeet': 'bird'}\n",
            "{'dog': 'animal', 'parakeet': 'bird'}\n"
          ]
        }
      ]
    },
    {
      "cell_type": "code",
      "source": [
        "#delete\n",
        "systems = {\"mac\": 1, \"windows\": 5, \"linux\": 1}\n",
        "\n",
        "print(systems)\n",
        "\n",
        "print(systems)\n",
        "\n",
        "# Remove key-value at \"windows\" key.\n",
        "del systems[\"windows\"]\n",
        "\n",
        "# Display dictionary.\n",
        "print(systems)"
      ],
      "metadata": {
        "colab": {
          "base_uri": "https://localhost:8080/"
        },
        "id": "LA647-9_G6P1",
        "outputId": "04d4df6c-8994-4029-d350-fb087bb77178"
      },
      "execution_count": 5,
      "outputs": [
        {
          "output_type": "stream",
          "name": "stdout",
          "text": [
            "{'mac': 1, 'windows': 5, 'linux': 1}\n",
            "{'mac': 1, 'windows': 5, 'linux': 1}\n",
            "{'mac': 1, 'linux': 1}\n"
          ]
        }
      ]
    },
    {
      "cell_type": "code",
      "source": [
        "lookup = {\"cat\": \"A domestic animal\", \"dog\": \"A grateful domestic animal\"}\n",
        "\n",
        "#The dictionary has no fish key!\n",
        "print(lookup[\"cat\"])\n",
        "print(lookup[\"dog\"])\n",
        "print(lookup)"
      ],
      "metadata": {
        "colab": {
          "base_uri": "https://localhost:8080/"
        },
        "id": "XstJtHQOJV3C",
        "outputId": "bff97abe-8c31-4de8-f892-9bc93c97fb6e"
      },
      "execution_count": 6,
      "outputs": [
        {
          "output_type": "stream",
          "name": "stdout",
          "text": [
            "A domestic animal\n",
            "A grateful domestic animal\n",
            "{'cat': 'A domestic animal', 'dog': 'A grateful domestic animal'}\n"
          ]
        }
      ]
    },
    {
      "cell_type": "code",
      "source": [
        "#hash table\n",
        "plants = {}\n",
        "\n",
        "# Add three key-value tuples to the dictionary.\n",
        "plants[\"radish\"] = [2,4,\"good\"]\n",
        "plants[\"squash\"] = [1,34,\"bad\"]\n",
        "plants[\"carrot\"] = [4,56,\"yes\"]\n",
        "\n",
        "print(plants)\n",
        "\n",
        "# Get syntax 1.\n",
        "print(plants[\"radish\"])\n",
        "\n",
        "# Get syntax 2.\n",
        "print(plants.get(\"tuna\"))\n",
        "print(plants.get(\"tuna\", \"no tuna found\"))\n",
        "print(plants.get('squash'))\n",
        "sorted(plants)\n",
        "print(plants)"
      ],
      "metadata": {
        "colab": {
          "base_uri": "https://localhost:8080/"
        },
        "id": "GI6qidJuJfNn",
        "outputId": "a4899ed4-00f2-4f62-e453-8d62eeb638a9"
      },
      "execution_count": 7,
      "outputs": [
        {
          "output_type": "stream",
          "name": "stdout",
          "text": [
            "{'radish': [2, 4, 'good'], 'squash': [1, 34, 'bad'], 'carrot': [4, 56, 'yes']}\n",
            "[2, 4, 'good']\n",
            "None\n",
            "no tuna found\n",
            "[1, 34, 'bad']\n",
            "{'radish': [2, 4, 'good'], 'squash': [1, 34, 'bad'], 'carrot': [4, 56, 'yes']}\n"
          ]
        }
      ]
    },
    {
      "cell_type": "code",
      "source": [
        "original = {\"box\": 1, \"cat\": 2, \"apple\": 5}\n",
        "\n",
        "# Create copy of dictionary.\n",
        "modified = original.copy()\n",
        "\n",
        "# Change copy only.\n",
        "modified[\"cat\"] = 200\n",
        "modified[\"apple\"] = 9\n",
        "\n",
        "# Original is still the same.\n",
        "print(original)\n",
        "print(modified)"
      ],
      "metadata": {
        "colab": {
          "base_uri": "https://localhost:8080/"
        },
        "id": "8E0S4hXvJtKy",
        "outputId": "5176c1da-8b70-49ad-cef5-c49098b6ec5d"
      },
      "execution_count": 8,
      "outputs": [
        {
          "output_type": "stream",
          "name": "stdout",
          "text": [
            "{'box': 1, 'cat': 2, 'apple': 5}\n",
            "{'box': 1, 'cat': 200, 'apple': 9}\n"
          ]
        }
      ]
    },
    {
      "cell_type": "code",
      "source": [
        "mydic = { \"4\" : 24, \"5\" : 34 }\n",
        "for key in mydic.items() :\n",
        "    print (key)"
      ],
      "metadata": {
        "colab": {
          "base_uri": "https://localhost:8080/"
        },
        "id": "QZ8OfJ4KKKCj",
        "outputId": "313e56a2-f096-4053-c1e1-d2683863f938"
      },
      "execution_count": 9,
      "outputs": [
        {
          "output_type": "stream",
          "name": "stdout",
          "text": [
            "('4', 24)\n",
            "('5', 34)\n"
          ]
        }
      ]
    },
    {
      "cell_type": "code",
      "source": [
        "dic = {\"key 1\":\"value 1\",\"key b\":\"value b\"}\n",
        "\n",
        "#print the keys:\n",
        "for key in dic.keys():\n",
        "    print(key)\n",
        "\n",
        "#print the values:\n",
        "for value in dic.values():\n",
        "    print(value)\n",
        "\n",
        "#print key and values\n",
        "for key, value in dic.items():\n",
        "    print(key, value)"
      ],
      "metadata": {
        "colab": {
          "base_uri": "https://localhost:8080/"
        },
        "id": "nxyAmfZNKP-_",
        "outputId": "cc35aa14-5a74-4366-8dd3-15b5d0c215f9"
      },
      "execution_count": 10,
      "outputs": [
        {
          "output_type": "stream",
          "name": "stdout",
          "text": [
            "key 1\n",
            "key b\n",
            "value 1\n",
            "value b\n",
            "key 1 value 1\n",
            "key b value b\n"
          ]
        }
      ]
    },
    {
      "cell_type": "code",
      "source": [
        "# highlighting how to use a named variable within a string:\n",
        "dict = {'a': 1, 'b': 2}\n",
        "# highlighting how to use a named variable within a string:\n",
        "dict = {'a': 1, 'b': 2}\n",
        "\n",
        "# simple method:\n",
        "print(\"a %(a)s\" % dict)\n",
        "print(\"b %(b)s\" % dict)\n",
        "\n",
        "# yields:\n",
        "# a 1\n",
        "# b 1\n",
        "\n",
        "\n",
        "# programmatic method:\n",
        "for key in dict:\n",
        "    val = '%('+key+')s'\n",
        "    print(key, val % dict)\n",
        "\n",
        "# yields:\n",
        "# a 1\n",
        "# b 1\n",
        "\n",
        "# using list comprehension\n",
        "print(\"\\n\".join([\"%s: %s\" % (key, ('%('+key+')s') % dict) for key in dict]))\n",
        "\n",
        "# yields:\n",
        "# a: 1\n",
        "# b: 1\n",
        "\n",
        "# yields:\n",
        "# a 1\n",
        "# b 1\n",
        "\n",
        "\n",
        "# programmatic method:\n",
        "# highlighting how to use a named variable within a string:\n",
        "dict = {'a': 1, 'b': 2}\n",
        "# highlighting how to use a named variable within a string:\n",
        "dict = {'a': 1, 'b': 2}\n",
        "\n",
        "# simple method:\n",
        "print(\"a %(a)s\" % dict)\n",
        "print(\"b %(b)s\" % dict)\n",
        "\n",
        "# yields:\n",
        "# a 1\n",
        "# b 1\n",
        "\n",
        "\n",
        "# programmatic method:\n",
        "for key in dict:\n",
        "    val = '%('+key+')s'\n",
        "    print(key, val % dict)\n",
        "\n",
        "# yields:\n",
        "# a 1\n",
        "# b 1\n",
        "\n",
        "# using list comprehension\n",
        "print(\"\\n\".join([\"%s: %s\" % (key, ('%('+key+')s') % dict) for key in dict]))\n",
        "\n",
        "# yields:\n",
        "# a: 1\n",
        "# b: 1\n",
        "\n",
        "# yields:\n",
        "# a 1\n",
        "# b 1\n",
        "\n",
        "\n",
        "# programmatic method:\n",
        "for key in dict:\n",
        "    val = '%('+key+')s'\n",
        "    print(key, val % dict)\n",
        "\n",
        "# yields:\n",
        "# a 1\n",
        "# b 1\n",
        "\n",
        "# using list comprehension\n",
        "print(\"\\n\".join([\"%s: %s\" % (key, ('%('+key+')s') % dict) for key in dict]))\n",
        "\n",
        "# yields:\n",
        "# a: 1\n",
        "# b: 1\n",
        "\n",
        "# a 1\n",
        "# b 1\n",
        "\n",
        "# using list comprehension\n",
        "print (\"\\n\".join([\"%s: %s\" % (key, ('%('+key+')s') % dict) for key in dict]))\n",
        "\n",
        "# yields:\n",
        "# a: 1\n",
        "# b: 1"
      ],
      "metadata": {
        "colab": {
          "base_uri": "https://localhost:8080/"
        },
        "id": "gPXh5CDKKiq4",
        "outputId": "04664d35-e888-46f7-dd44-283ed7b68759"
      },
      "execution_count": 14,
      "outputs": [
        {
          "output_type": "stream",
          "name": "stdout",
          "text": [
            "a 1\n",
            "b 2\n",
            "a 1\n",
            "b 2\n",
            "a: 1\n",
            "b: 2\n",
            "a 1\n",
            "b 2\n",
            "a 1\n",
            "b 2\n",
            "a: 1\n",
            "b: 2\n",
            "a 1\n",
            "b 2\n",
            "a: 1\n",
            "b: 2\n",
            "a: 1\n",
            "b: 2\n"
          ]
        }
      ]
    },
    {
      "cell_type": "code",
      "source": [
        "# Same as previous program.\n",
        "hits = {\"home\": 124, \"sitemap\": 26, \"about\": 32}\n",
        "\n",
        "# Sort the keys from the dictionary.\n",
        "keys = sorted(hits.keys())\n",
        "print(keys)\n",
        "values = sorted(hits.values())\n",
        "print(values)"
      ],
      "metadata": {
        "colab": {
          "base_uri": "https://localhost:8080/"
        },
        "id": "TqLuib08KsOQ",
        "outputId": "811c3164-1e2c-4f80-a193-2bf7fbb77072"
      },
      "execution_count": 15,
      "outputs": [
        {
          "output_type": "stream",
          "name": "stdout",
          "text": [
            "['about', 'home', 'sitemap']\n",
            "[26, 32, 124]\n"
          ]
        }
      ]
    },
    {
      "cell_type": "code",
      "source": [
        "L = ['apple','red','apple','red','red','pear']\n",
        "from collections import defaultdict\n",
        "d = defaultdict(int)\n",
        "for i in L:\n",
        "   d[i] += 1\n",
        "print(d)"
      ],
      "metadata": {
        "colab": {
          "base_uri": "https://localhost:8080/"
        },
        "id": "hQW0AQ3oL3lH",
        "outputId": "5695df85-5280-4e66-b1f2-1126a86aae6a"
      },
      "execution_count": 16,
      "outputs": [
        {
          "output_type": "stream",
          "name": "stdout",
          "text": [
            "defaultdict(<class 'int'>, {'apple': 2, 'red': 3, 'pear': 1})\n"
          ]
        }
      ]
    },
    {
      "cell_type": "code",
      "source": [
        "tel = {'jack': 4098, 'sape': 4139}\n",
        "tel['guido'] = 4127\n",
        "print(tel)\n",
        "print(tel['jack'])\n",
        "\n",
        "#!/usr/bin/python3\n",
        "\n",
        "dict = {'Name': 'Zara', 'Age': 7, 'Class': 'First'}\n",
        "print (\"dict['Name']: \", dict['Name'])\n",
        "print (\"dict['Age']: \", dict['Age'])\n",
        "\n",
        "print(dict['Name'])\n",
        "print(dict['Age'])\n",
        "\n",
        "dict = {'Name': 'Zara', 'Age': 7, 'Class': 'First'}\n",
        "dict['Age'] = 8; # update existing entry\n",
        "dict['School'] = \"DPS School\" # Add new entry\n",
        "\n",
        "print (\"dict['Age']: \", dict['Age'])\n",
        "print (\"dict['School']: \", dict['School'])\n",
        "\n",
        "#!/usr/bin/python3\n",
        "\n",
        "dict = {'Name': 'Zara', 'Age': 7, 'Class': 'First'}\n",
        "\n",
        "del dict['Name'] # remove entry with key 'Name'\n",
        "dict.clear()     # remove all entries in dict\n",
        "del dict         # delete entire dictionary\n",
        "\n",
        "#print(\"dict['Age']: \", dict['Age'])   # this will give error since\n",
        "#print(\"dict['School']: \", dict['School'])  #dictionary is deleted"
      ],
      "metadata": {
        "colab": {
          "base_uri": "https://localhost:8080/"
        },
        "id": "npkCUNQwMDEN",
        "outputId": "c6982967-04f2-4ae6-a615-f45db6482f1f"
      },
      "execution_count": 17,
      "outputs": [
        {
          "output_type": "stream",
          "name": "stdout",
          "text": [
            "{'jack': 4098, 'sape': 4139, 'guido': 4127}\n",
            "4098\n",
            "dict['Name']:  Zara\n",
            "dict['Age']:  7\n",
            "Zara\n",
            "7\n",
            "dict['Age']:  8\n",
            "dict['School']:  DPS School\n"
          ]
        }
      ]
    },
    {
      "cell_type": "code",
      "source": [
        "animals = {}\n",
        "animals[\"monkey\"] = 1\n",
        "animals[\"tuna\"] = 2\n",
        "animals[\"giraffe\"] = 4\n",
        "print(animals)\n",
        "print()\n",
        "\n",
        "# Use in.\n",
        "if \"tuna\" in animals:\n",
        "    print(\"Has tuna\")\n",
        "else:\n",
        "    print(\"No tuna\")\n",
        "\n",
        "# Use in on nonexistent key.\n",
        "if \"elephant\" in animals:\n",
        "    print(\"Has elephant\")\n",
        "else:\n",
        "    print(\"No elephant\")"
      ],
      "metadata": {
        "colab": {
          "base_uri": "https://localhost:8080/"
        },
        "id": "SeE3Dd5RMvBn",
        "outputId": "ea4a0f1b-9ce0-4176-8188-67655c5e6c31"
      },
      "execution_count": 18,
      "outputs": [
        {
          "output_type": "stream",
          "name": "stdout",
          "text": [
            "{'monkey': 1, 'tuna': 2, 'giraffe': 4}\n",
            "\n",
            "Has tuna\n",
            "No elephant\n"
          ]
        }
      ]
    },
    {
      "cell_type": "code",
      "source": [
        "hits = {\"home\": 125, \"sitemap\": 27, \"about\": 43}\n",
        "\n",
        "keys = hits.keys()\n",
        "values = hits.values()\n",
        "\n",
        "print(\"Keys:\")\n",
        "print(keys)\n",
        "print(len(keys))\n",
        "\n",
        "print(\"Values:\")\n",
        "print(values)\n",
        "print(len(values))"
      ],
      "metadata": {
        "colab": {
          "base_uri": "https://localhost:8080/"
        },
        "id": "3DDanwE-NHLl",
        "outputId": "7a12c5bd-8457-49d6-bd25-4c02ab260b6e"
      },
      "execution_count": 19,
      "outputs": [
        {
          "output_type": "stream",
          "name": "stdout",
          "text": [
            "Keys:\n",
            "dict_keys(['home', 'sitemap', 'about'])\n",
            "3\n",
            "Values:\n",
            "dict_values([125, 27, 43])\n",
            "3\n"
          ]
        }
      ]
    },
    {
      "cell_type": "code",
      "source": [
        "newdict = {\"a\": 1, \"b\": 2, \"c\": 3}\n",
        "for key in newdict.keys():\n",
        "  print(key)"
      ],
      "metadata": {
        "colab": {
          "base_uri": "https://localhost:8080/"
        },
        "id": "cgWBHVadNSuc",
        "outputId": "077bbe60-8dcd-46d9-8711-5887f35d7a68"
      },
      "execution_count": 21,
      "outputs": [
        {
          "output_type": "stream",
          "name": "stdout",
          "text": [
            "a\n",
            "b\n",
            "c\n"
          ]
        }
      ]
    },
    {
      "cell_type": "code",
      "source": [
        "a = {\n",
        "'x' : 1,\n",
        "'y' : 2,\n",
        "'z' : 3\n",
        "}\n",
        "\n",
        "b = {\n",
        "'w' : 10,\n",
        "'x' : 11,\n",
        "'y' : 2\n",
        "}\n",
        "\n",
        "\n",
        "print(a.keys() & b.keys()) # { 'x', 'y' }\n",
        "print(a.keys() - b.keys()) # { 'z' }\n",
        "print(a.items() & b.items()) # { ('y', 2) }\n",
        "\n",
        "c = {key:a[key] for key in a.keys() - {'z', 'w'}}\n",
        "print(c)"
      ],
      "metadata": {
        "colab": {
          "base_uri": "https://localhost:8080/"
        },
        "id": "j7MALY08NaBd",
        "outputId": "7c91fbd9-510f-4860-b606-30b66c864b15"
      },
      "execution_count": 22,
      "outputs": [
        {
          "output_type": "stream",
          "name": "stdout",
          "text": [
            "{'x', 'y'}\n",
            "{'z'}\n",
            "{('y', 2)}\n",
            "{'x': 1, 'y': 2}\n"
          ]
        }
      ]
    },
    {
      "cell_type": "code",
      "source": [
        "students = {}\n",
        "\n",
        "# Add three key-value tuples to the dictionary.\n",
        "students[\"Vaishnavi\"] = [2,4]\n",
        "students[\"Jothi\"] = [1,34]\n",
        "students[\"Karthik\"] = [4,56]\n",
        "students[\"Jayashree\"] = [20.3,4.5]\n",
        "students[\"Raju\"] = [20,4]\n",
        "students[\"Lakshman\"] = [50.3,4.5]\n",
        "students[\"Raman\"] = [20.3,1.5]\n",
        "students[\"John\"] = [20.3,3.5]\n",
        "students[\"Godspeed\"] = [2.3,4]\n",
        "students[\"Angelina\"] = [20.3,45]\n",
        "students[\"Kumar\"] = [20.3,4.5]\n",
        "students[\"Kirthika\"] = [20.3,4.5]\n",
        "students[\"Ranjith\"] = [20.3,4.5]\n",
        "students[\"Maravan\"] = [20.3,4.5]\n",
        "students[\"Sanjeev\"] = [20.3,4.5]\n",
        "students[\"Devasagayam\"] = [20.3,4.5]\n",
        "\n",
        "# Get syntax 1.\n",
        "print(students[\"Vaishnavi\"])\n",
        "\n",
        "# Get syntax 2.\n",
        "print(students.get(\"Raghu\"))\n",
        "print(students.get(\"Raghu\", \"Raghu not found\"))\n",
        "print(students.get('Vaishnavi'))\n",
        "print(sorted(students))\n",
        "print(students[\"Raju\"][1])\n",
        "#print(students)"
      ],
      "metadata": {
        "colab": {
          "base_uri": "https://localhost:8080/"
        },
        "id": "g5cUMdkENpIA",
        "outputId": "0072a0db-6bf5-4c8a-8cfe-e2e4a582be46"
      },
      "execution_count": 23,
      "outputs": [
        {
          "output_type": "stream",
          "name": "stdout",
          "text": [
            "[2, 4]\n",
            "None\n",
            "Raghu not found\n",
            "[2, 4]\n",
            "['Angelina', 'Devasagayam', 'Godspeed', 'Jayashree', 'John', 'Jothi', 'Karthik', 'Kirthika', 'Kumar', 'Lakshman', 'Maravan', 'Raju', 'Raman', 'Ranjith', 'Sanjeev', 'Vaishnavi']\n",
            "4\n"
          ]
        }
      ]
    },
    {
      "cell_type": "code",
      "source": [],
      "metadata": {
        "id": "DlPRWPYWN5q1"
      },
      "execution_count": null,
      "outputs": []
    }
  ]
}