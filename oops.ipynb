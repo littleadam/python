{
  "cells": [
    {
      "cell_type": "markdown",
      "metadata": {
        "id": "view-in-github",
        "colab_type": "text"
      },
      "source": [
        "<a href=\"https://colab.research.google.com/github/littleadam/python/blob/main/oops.ipynb\" target=\"_parent\"><img src=\"https://colab.research.google.com/assets/colab-badge.svg\" alt=\"Open In Colab\"/></a>"
      ]
    },
    {
      "cell_type": "code",
      "execution_count": 2,
      "metadata": {
        "ExecuteTime": {
          "end_time": "2020-08-14T06:32:37.907124Z",
          "start_time": "2020-08-14T06:32:37.893134Z"
        },
        "id": "ElT2ucmnwGKE",
        "outputId": "3293c2f0-b0cb-4bb4-fd5f-8dad0d7147ef",
        "colab": {
          "base_uri": "https://localhost:8080/"
        }
      },
      "outputs": [
        {
          "output_type": "stream",
          "name": "stdout",
          "text": [
            "<__main__.MyFirstClass object at 0x7cf539e2bac0>\n",
            "<__main__.MyFirstClass object at 0x7cf539ea33a0>\n"
          ]
        }
      ],
      "source": [
        "class MyFirstClass:\n",
        "    pass\n",
        "\n",
        "obj1 = MyFirstClass()\n",
        "obj2 = MyFirstClass()\n",
        "\n",
        "print(obj1)\n",
        "print(obj2)"
      ]
    },
    {
      "cell_type": "code",
      "execution_count": 3,
      "metadata": {
        "ExecuteTime": {
          "end_time": "2020-08-14T06:34:10.434368Z",
          "start_time": "2020-08-14T06:34:10.422374Z"
        },
        "id": "tvWIS7lPwGKJ",
        "outputId": "6a9086c9-f867-4da0-873e-c694a73aca4d",
        "colab": {
          "base_uri": "https://localhost:8080/"
        }
      },
      "outputs": [
        {
          "output_type": "stream",
          "name": "stdout",
          "text": [
            "5 4\n",
            "3 6\n"
          ]
        }
      ],
      "source": [
        "\n",
        "# what is the class here?  - Point\n",
        "# what is the object here? - p1, p2\n",
        "\n",
        "# what are the variables here? x,y\n",
        "\n",
        "# what is . dot notation? p1.x ? - x variable belonging to\n",
        "#                                  p1 class\n",
        "#                         p2.y ? - y variable belonging to\n",
        "#                                  p2 class\n",
        "\n",
        "class Point:\n",
        "    pass\n",
        "\n",
        "p1 = Point()\n",
        "p2 = Point()\n",
        "\n",
        "p1.x = 5\n",
        "p1.y = 4\n",
        "\n",
        "p2.x = 3\n",
        "p2.y = 6\n",
        "\n",
        "print(p1.x, p1.y)\n",
        "print(p2.x, p2.y)\n"
      ]
    },
    {
      "cell_type": "code",
      "execution_count": 4,
      "metadata": {
        "ExecuteTime": {
          "end_time": "2020-08-14T06:36:02.113266Z",
          "start_time": "2020-08-14T06:36:02.099276Z"
        },
        "id": "XYIqbzFzwGKL",
        "outputId": "30dfa4c6-a914-4682-de19-17684181bb73",
        "colab": {
          "base_uri": "https://localhost:8080/"
        }
      },
      "outputs": [
        {
          "output_type": "stream",
          "name": "stdout",
          "text": [
            "10000\n",
            "1000\n",
            "current\n",
            "200000\n"
          ]
        }
      ],
      "source": [
        "#dunder method - magic method  dunder methods - magic methods - double underscore\n",
        "class BankBalance:\n",
        "    def __init__(self, thistype='savings', amount=1000):    # Constructor of the class Double UNDERscore\n",
        "        self.acctype = thistype              # magic methods\n",
        "        self.balance = amount                #dunder methods magic methods\n",
        "\n",
        "obja = BankBalance(10000)\n",
        "objc = BankBalance()\n",
        "objd = BankBalance('current')\n",
        "objb = BankBalance('current',200000)\n",
        "\n",
        "print(obja.acctype)\n",
        "print(obja.balance)\n",
        "print(objb.acctype)\n",
        "print(objb.balance)"
      ]
    },
    {
      "cell_type": "code",
      "execution_count": 5,
      "metadata": {
        "ExecuteTime": {
          "end_time": "2020-08-14T06:41:39.334052Z",
          "start_time": "2020-08-14T06:41:39.310063Z"
        },
        "id": "CCyb2BsowGKN",
        "outputId": "35db3980-a36c-4aad-edfc-033de0dc44bc",
        "colab": {
          "base_uri": "https://localhost:8080/"
        }
      },
      "outputs": [
        {
          "output_type": "stream",
          "name": "stdout",
          "text": [
            "Nick Simpson\n",
            "Homer Simpson\n",
            "Homer Simpson, 1007\n"
          ]
        }
      ],
      "source": [
        "# this program demonstrates how the derived class and\n",
        "# the base class work with each other and the syntax\n",
        "# for inheritance in python, \"is a\" relationship\n",
        "\n",
        "class Person:\n",
        "\n",
        "    def __init__(self, first, last):\n",
        "        self.firstname = first\n",
        "        self.lastname = last\n",
        "\n",
        "    def Name(self):\n",
        "        return self.firstname + \" \" + self.lastname\n",
        "\n",
        "class Employee(Person):\n",
        "\n",
        "    def __init__(self, first, last, staffnum):\n",
        "        #print(\"Derived Class\")\n",
        "        Person.__init__(self, first, last)\n",
        "        self.staffnumber = staffnum\n",
        "\n",
        "    def GetEmployee(self):\n",
        "        return self.Name() + \", \" +  self.staffnumber\n",
        "\n",
        "xobj = Person(\"Nick\", \"Simpson\")\n",
        "yobj = Employee(\"Homer\", \"Simpson\", \"1007\")\n",
        "\n",
        "print(xobj.Name())\n",
        "print(yobj.Name())\n",
        "print(yobj.GetEmployee())"
      ]
    },
    {
      "cell_type": "code",
      "execution_count": 6,
      "metadata": {
        "ExecuteTime": {
          "end_time": "2020-08-14T06:51:35.366078Z",
          "start_time": "2020-08-14T06:51:35.349087Z"
        },
        "id": "DMZS9864wGKO",
        "outputId": "0d84f583-05e3-4b88-bc68-c37f4a41ab11",
        "colab": {
          "base_uri": "https://localhost:8080/",
          "height": 332
        }
      },
      "outputs": [
        {
          "output_type": "stream",
          "name": "stdout",
          "text": [
            "Length:  80\n",
            "Breadth:  50\n"
          ]
        },
        {
          "output_type": "error",
          "ename": "AttributeError",
          "evalue": "'Rectangle' object has no attribute '_Rectangle__length'",
          "traceback": [
            "\u001b[0;31m---------------------------------------------------------------------------\u001b[0m",
            "\u001b[0;31mAttributeError\u001b[0m                            Traceback (most recent call last)",
            "\u001b[0;32m<ipython-input-6-f2c03cafb815>\u001b[0m in \u001b[0;36m<cell line: 51>\u001b[0;34m()\u001b[0m\n\u001b[1;32m     49\u001b[0m \u001b[0;31m# calling public member\u001b[0m\u001b[0;34m\u001b[0m\u001b[0;34m\u001b[0m\u001b[0m\n\u001b[1;32m     50\u001b[0m \u001b[0;31m# functions of the class\u001b[0m\u001b[0;34m\u001b[0m\u001b[0;34m\u001b[0m\u001b[0m\n\u001b[0;32m---> 51\u001b[0;31m \u001b[0mobj\u001b[0m\u001b[0;34m.\u001b[0m\u001b[0mcalculateArea\u001b[0m\u001b[0;34m(\u001b[0m\u001b[0;34m)\u001b[0m\u001b[0;34m\u001b[0m\u001b[0;34m\u001b[0m\u001b[0m\n\u001b[0m",
            "\u001b[0;32m<ipython-input-6-f2c03cafb815>\u001b[0m in \u001b[0;36mcalculateArea\u001b[0;34m(self)\u001b[0m\n\u001b[1;32m     33\u001b[0m \u001b[0;34m\u001b[0m\u001b[0m\n\u001b[1;32m     34\u001b[0m         \u001b[0;31m# accessing protected data members of super class\u001b[0m\u001b[0;34m\u001b[0m\u001b[0;34m\u001b[0m\u001b[0m\n\u001b[0;32m---> 35\u001b[0;31m         \u001b[0mprint\u001b[0m\u001b[0;34m(\u001b[0m\u001b[0;34m\"Area: \"\u001b[0m\u001b[0;34m,\u001b[0m \u001b[0mself\u001b[0m\u001b[0;34m.\u001b[0m\u001b[0m__length\u001b[0m \u001b[0;34m*\u001b[0m \u001b[0mself\u001b[0m\u001b[0;34m.\u001b[0m\u001b[0m__breadth\u001b[0m\u001b[0;34m)\u001b[0m\u001b[0;34m\u001b[0m\u001b[0;34m\u001b[0m\u001b[0m\n\u001b[0m\u001b[1;32m     36\u001b[0m \u001b[0;34m\u001b[0m\u001b[0m\n\u001b[1;32m     37\u001b[0m \u001b[0;34m\u001b[0m\u001b[0m\n",
            "\u001b[0;31mAttributeError\u001b[0m: 'Rectangle' object has no attribute '_Rectangle__length'"
          ]
        }
      ],
      "source": [
        "# program to illustrate protected\n",
        "# data members in a class\n",
        "\n",
        "# super class\n",
        "class Shape:\n",
        "\n",
        "    # constructor\n",
        "    def __init__(self, length, breadth):\n",
        "        self.__length = length\n",
        "        self.__breadth = breadth\n",
        "\n",
        "    # public member function\n",
        "    def displaySides(self):\n",
        "\n",
        "        # accessing protected data members\n",
        "        print(\"Length: \", self.__length)\n",
        "        print(\"Breadth: \", self.__breadth)\n",
        "\n",
        "\n",
        "\n",
        "# derived class\n",
        "class Rectangle(Shape):\n",
        "\n",
        "    # constructor\n",
        "    def __init__(self, length, breadth):\n",
        "\n",
        "        # Calling the constructor of\n",
        "        # Super class\n",
        "        Shape.__init__(self, length, breadth)\n",
        "\n",
        "    # public member function\n",
        "    def calculateArea(self):\n",
        "\n",
        "        # accessing protected data members of super class\n",
        "        print(\"Area: \", self.__length * self.__breadth)\n",
        "\n",
        "\n",
        "# creating objects of the\n",
        "# derived class\n",
        "obj = Rectangle(80, 50)\n",
        "obja= Shape(20,10)\n",
        "#print(obja.__length)\n",
        "#print(obja.__breadth)\n",
        "\n",
        "# calling derived member\n",
        "# functions of the class\n",
        "obj.displaySides()\n",
        "\n",
        "# calling public member\n",
        "# functions of the class\n",
        "obj.calculateArea()\n"
      ]
    },
    {
      "cell_type": "code",
      "execution_count": 7,
      "metadata": {
        "ExecuteTime": {
          "end_time": "2020-08-14T07:00:58.304810Z",
          "start_time": "2020-08-14T07:00:58.290818Z"
        },
        "id": "jtIuCH57wGKP",
        "outputId": "4c14ea09-c2f4-4f73-8ab0-d9c2f0b85dff",
        "colab": {
          "base_uri": "https://localhost:8080/"
        }
      },
      "outputs": [
        {
          "output_type": "stream",
          "name": "stdout",
          "text": [
            "Public method\n",
            "\n",
            "Inside derived class\n",
            "Private method\n",
            "10\n",
            "Private method\n"
          ]
        }
      ],
      "source": [
        "\n",
        "# Python program to\n",
        "# demonstrate private methods\n",
        "\n",
        "# Creating a Base class\n",
        "class Base:\n",
        "\n",
        "    _myvar = 10\n",
        "    # Declaring public method\n",
        "    def fun(self):\n",
        "        print(\"Public method\")\n",
        "\n",
        "    # Declaring protected method\n",
        "    def _fun(self):\n",
        "        print(\"Private method\")\n",
        "\n",
        "\n",
        "# Creating a derived class\n",
        "\n",
        "class Derived(Base):\n",
        "    def __init__(self):\n",
        "\n",
        "        # Calling constructor of\n",
        "        # Base class\n",
        "        Base.__init__(self)\n",
        "\n",
        "    def call_public(self):\n",
        "\n",
        "        # Calling public method of base class\n",
        "        print(\"\\nInside derived class\")\n",
        "        self._fun()\n",
        "\n",
        "    def call_private(self):\n",
        "        print(self._myvar)\n",
        "        # Calling private method of base class\n",
        "        self._fun()\n",
        "\n",
        "\n",
        "# Driver code\n",
        "obj1 = Base()\n",
        "\n",
        "# Calling public method\n",
        "obj1.fun()\n",
        "\n",
        "obj2 = Derived()\n",
        "obj2.call_public()\n",
        "obj2.call_private()\n",
        "\n",
        "# Uncommenting obj1.__fun() will\n",
        "# raise an AttributeError\n",
        "\n",
        "# Uncommenting obj2.call_private()\n",
        "# will also raise an AttributeError\n"
      ]
    },
    {
      "cell_type": "code",
      "execution_count": 8,
      "metadata": {
        "ExecuteTime": {
          "end_time": "2020-08-14T07:06:15.730130Z",
          "start_time": "2020-08-14T07:06:15.716139Z"
        },
        "id": "Y0Df8zW1wGKR",
        "outputId": "6195779c-ad07-49a6-feca-ea36ccd623a9",
        "colab": {
          "base_uri": "https://localhost:8080/"
        }
      },
      "outputs": [
        {
          "output_type": "stream",
          "name": "stdout",
          "text": [
            "cse\n",
            "cse\n",
            "Karthik\n",
            "MeghaDharshini\n",
            "1\n",
            "2\n",
            "cse\n"
          ]
        }
      ],
      "source": [
        "# Python program to show that the variables with a value\n",
        "# assigned in class declaration, are class variables\n",
        "\n",
        "# Class for a Computer Science Student\n",
        "class CSStudent:\n",
        "    stream = 'cse'                  # Class Variable or static variable\n",
        "    def __init__(self,name,roll):\n",
        "        self.name = name            # Instance Variable\n",
        "        self.roll = roll            # Instance Variable\n",
        "\n",
        "# Objects of CSStudent class\n",
        "a = CSStudent('Karthik', 1)\n",
        "b = CSStudent('MeghaDharshini', 2)\n",
        "\n",
        "print(a.stream)  # prints \"cse\"\n",
        "print(b.stream)  # prints \"cse\"\n",
        "print(a.name)    # prints \"Karthik\"\n",
        "print(b.name)    # prints \"MeghaDharshini\"\n",
        "print(a.roll)    # prints \"1\"\n",
        "print(b.roll)    # prints \"2\"\n",
        "\n",
        "# Class variables can be accessed using class\n",
        "# name also\n",
        "print(CSStudent.stream) # prints \"cse\"\n"
      ]
    },
    {
      "cell_type": "code",
      "execution_count": 9,
      "metadata": {
        "ExecuteTime": {
          "end_time": "2020-08-14T07:08:33.199881Z",
          "start_time": "2020-08-14T07:08:33.187889Z"
        },
        "id": "kM5D8VWlwGKT",
        "outputId": "df91e15d-dfe8-4bba-8ae6-1e9ba8420c4b",
        "colab": {
          "base_uri": "https://localhost:8080/"
        }
      },
      "outputs": [
        {
          "output_type": "stream",
          "name": "stdout",
          "text": [
            "Equal\n"
          ]
        }
      ],
      "source": [
        "class Dates:\n",
        "    def __init__(self, date):\n",
        "        self.date = date\n",
        "\n",
        "    def getDate(self):\n",
        "        return self.date\n",
        "\n",
        "    @staticmethod\n",
        "    def slash_to_dash(date):\n",
        "        return date.replace(\"/\", \"-\")\n",
        "\n",
        "\n",
        "date = Dates(\"15-12-2016\")\n",
        "dateFromDB = \"15/12/2016\"\n",
        "dateWithDash = Dates.slash_to_dash(dateFromDB)\n",
        "\n",
        "if(date.getDate() == dateWithDash):\n",
        "    print(\"Equal\")\n",
        "else:\n",
        "    print(\"Unequal\")\n"
      ]
    },
    {
      "cell_type": "code",
      "execution_count": 10,
      "metadata": {
        "id": "Ewhb0ctywGKU"
      },
      "outputs": [],
      "source": [
        "class Car:\n",
        "\n",
        "    wheels = 4\n",
        "\n",
        "    def __init__(self, color, model, year):\n",
        "        self.color = color\n",
        "        self.model = model\n",
        "        self.year = year"
      ]
    },
    {
      "cell_type": "code",
      "execution_count": 11,
      "metadata": {
        "id": "51GJTayGwGKU",
        "outputId": "5e5dc401-c0cc-4a22-dbf3-0b0f93e1b8cb",
        "colab": {
          "base_uri": "https://localhost:8080/"
        }
      },
      "outputs": [
        {
          "output_type": "stream",
          "name": "stdout",
          "text": [
            "Name: Vinita, Pay: 250000, Exp: 5\n"
          ]
        }
      ],
      "source": [
        "# Parent class 1\n",
        "class TeamMember():#object):\n",
        "   def __init__(self, name, uid):\n",
        "      self.name = name\n",
        "      self.uid = uid\n",
        "\n",
        "# Parent class 2\n",
        "class Worker():#object):\n",
        "   def __init__(self, pay, jobtitle):\n",
        "      self.pay = pay\n",
        "      self.jobtitle = jobtitle\n",
        "\n",
        "# Deriving a child class from the two parent classes\n",
        "class TeamLeader(TeamMember, Worker):\n",
        "   def __init__(self, name, uid, pay, jobtitle, exp):\n",
        "      self.exp = exp\n",
        "      TeamMember.__init__(self, name, uid)\n",
        "      Worker.__init__(self, pay, jobtitle)\n",
        "      print(\"Name: {}, Pay: {}, Exp: {}\".format(self.name, self.pay, self.exp))\n",
        "\n",
        "TL = TeamLeader('Vinita', 10001, 250000, 'Scrum Master', 5)"
      ]
    },
    {
      "cell_type": "code",
      "execution_count": 12,
      "metadata": {
        "id": "-n35zk0NwGKW",
        "outputId": "bcc3c77e-3c8e-4267-a6f0-0663a6e83f77",
        "colab": {
          "base_uri": "https://localhost:8080/"
        }
      },
      "outputs": [
        {
          "output_type": "stream",
          "name": "stdout",
          "text": [
            "Method of next_child class\n",
            "Method of child class\n",
            "Method of base class\n"
          ]
        }
      ],
      "source": [
        "\"\"\"\n",
        " Desc:\n",
        "  Multi level inheritance\n",
        "  Python program to demonstrate overriding\n",
        "  using the super() method\n",
        "\"\"\"\n",
        "\n",
        "class base(object):\n",
        "   def base_func(self):\n",
        "      print('Method of base class')\n",
        "\n",
        "class child(base):\n",
        "   def base_func(self):\n",
        "      print('Method of child class')\n",
        "      super(child, self).base_func()\n",
        "\n",
        "class next_child(child):\n",
        "   def base_func(self):\n",
        "      print('Method of next_child class')\n",
        "      super(next_child, self).base_func()\n",
        "\n",
        "obj = next_child()\n",
        "obj.base_func()"
      ]
    },
    {
      "cell_type": "code",
      "execution_count": 13,
      "metadata": {
        "id": "lVtcePNLwGKX",
        "outputId": "109ebe44-d66e-4f50-9bdb-c763df8b76d1",
        "colab": {
          "base_uri": "https://localhost:8080/"
        }
      },
      "outputs": [
        {
          "output_type": "stream",
          "name": "stdout",
          "text": [
            "Welcome to  Stark Industries\n",
            "Here  Steve  is working on  Mark 4\n",
            "The salary of  Steve  is  9999999\n"
          ]
        }
      ],
      "source": [
        "class Company:\n",
        "    # constructor\n",
        "    def __init__(self, name, proj):\n",
        "        self.name = name      # name(name of company) is public\n",
        "        self._proj = proj     # proj(current project) is protected\n",
        "\n",
        "    # public function to show the details\n",
        "    def show(self):\n",
        "        print(\"The code of the company is = \",self.ccode)\n",
        "\n",
        "# define child class Emp\n",
        "class Emp(Company):\n",
        "    # constructor\n",
        "    def __init__(self, eName, sal, cName, proj):\n",
        "        # calling parent class constructor\n",
        "        Company.__init__(self, cName, proj)\n",
        "        self.name = eName   # public member variable\n",
        "        self.__sal = sal    # private member variable\n",
        "\n",
        "    # public function to show salary details\n",
        "    def show_sal(self):\n",
        "        print(\"The salary of \",self.name,\" is \",self.__sal,)\n",
        "\n",
        "# creating instance of Company class\n",
        "c = Company(\"Stark Industries\", \"Mark 4\")\n",
        "# creating instance of Employee class\n",
        "e = Emp(\"Steve\", 9999999, c.name, c._proj)\n",
        "\n",
        "print(\"Welcome to \", c.name)\n",
        "print(\"Here \", e.name,\" is working on \",e._proj)\n",
        "\n",
        "# only the instance itself can change the __sal variable\n",
        "# and to show the value we have created a public function show_sal()\n",
        "e.show_sal()"
      ]
    },
    {
      "cell_type": "code",
      "execution_count": 14,
      "metadata": {
        "id": "l_HhHNG7wGKY",
        "outputId": "657ef1a2-e3db-4af2-ec0e-dccae37afa76",
        "colab": {
          "base_uri": "https://localhost:8080/"
        }
      },
      "outputs": [
        {
          "output_type": "stream",
          "name": "stdout",
          "text": [
            "Constructor C\n",
            "(<class '__main__.C'>, <class '__main__.newA'>, <class '__main__.A'>, <class 'object'>)\n",
            "[<class '__main__.C'>, <class '__main__.newA'>, <class '__main__.A'>, <class 'object'>]\n"
          ]
        }
      ],
      "source": [
        "# Python program to show the order\n",
        "# in which methods are resolved\n",
        "\n",
        "class A:\n",
        "    def rk(self):\n",
        "        print(\" In class A\")\n",
        "\n",
        "class newA(A):\n",
        "    def rk(self):\n",
        "        print(\" In class newA\")\n",
        "\n",
        "#class B:\n",
        "#    def rk(self):\n",
        "#        print(\" In class B\")\n",
        "\n",
        "# classes ordering\n",
        "class C(newA):\n",
        "    def __init__(self):\n",
        "        print(\"Constructor C\")\n",
        "\n",
        "robj = C()\n",
        "\n",
        "# it prints the lookup order\n",
        "print(C.__mro__)\n",
        "print(C.mro())\n"
      ]
    },
    {
      "cell_type": "code",
      "execution_count": 15,
      "metadata": {
        "id": "R7YGiu2twGKZ",
        "outputId": "6b3e093e-e414-48d9-f319-a32cc885a473",
        "colab": {
          "base_uri": "https://localhost:8080/"
        }
      },
      "outputs": [
        {
          "output_type": "stream",
          "name": "stdout",
          "text": [
            "Constructor C\n",
            "(<class '__main__.C'>, <class '__main__.newA'>, <class '__main__.A'>, <class '__main__.B'>, <class 'object'>)\n",
            "[<class '__main__.C'>, <class '__main__.newA'>, <class '__main__.A'>, <class '__main__.B'>, <class 'object'>]\n"
          ]
        }
      ],
      "source": [
        "# Python program to show the order\n",
        "# in which methods are resolved\n",
        "\n",
        "class A:\n",
        "    def rk(self):\n",
        "        print(\" In class A\")\n",
        "\n",
        "class newA(A):\n",
        "    def rk(self):\n",
        "        print(\" In class newA\")\n",
        "\n",
        "\n",
        "class B:\n",
        "    def rk(self):\n",
        "        print(\" In class B\")\n",
        "\n",
        "\n",
        "# classes ordering\n",
        "class C(newA,B):\n",
        "    def __init__(self):\n",
        "        print(\"Constructor C\")\n",
        "\n",
        "\n",
        "r = C()\n",
        "\n",
        "# it prints the lookup order\n",
        "print(C.__mro__)\n",
        "print(C.mro())\n"
      ]
    },
    {
      "cell_type": "code",
      "execution_count": 16,
      "metadata": {
        "id": "1D1Z3O-GwGKa"
      },
      "outputs": [],
      "source": [
        "class _ProductivitySystem:\n",
        "    def __init__(self):\n",
        "        self._roles = {\n",
        "            'manager': ManagerRole,\n",
        "            'secretary': SecretaryRole,\n",
        "            'sales': SalesRole,\n",
        "            'factory': FactoryRole\n",
        "        }\n",
        "\n",
        "    def get_role(self, role_id):\n",
        "        role_type = self._roles.get(role_id)\n",
        "        if not role_type:\\\n",
        "            raise ValueError('invalid role_id')\n",
        "        return role_type()\n",
        "\n",
        "    def track(self, employees, hours):\n",
        "        print('Tracking Employee Productivity')\n",
        "        print('==============================')\n",
        "        for employee in employees:\n",
        "            employee.work(hours)\n",
        "        print('')\n",
        "\n",
        "class ManagerRole:\n",
        "    def work(self, hours):\n",
        "        return f'screams and yells for {hours} hours.'\n",
        "\n",
        "class SecretaryRole:\n",
        "    def work(self, hours):\n",
        "        return f'expends {hours} hours doing office paperwork.'\n",
        "\n",
        "class SalesRole:\n",
        "    def work(self, hours):\n",
        "        return f'expends {hours} hours on the phone.'\n",
        "\n"
      ]
    },
    {
      "cell_type": "code",
      "execution_count": 17,
      "metadata": {
        "id": "j95RsBrVwGKh",
        "outputId": "51587926-5ae4-416b-d4aa-7e9336d7596d",
        "colab": {
          "base_uri": "https://localhost:8080/"
        }
      },
      "outputs": [
        {
          "output_type": "stream",
          "name": "stdout",
          "text": [
            "20\n",
            "10\n",
            "Length:  80\n",
            "Breadth:  50\n",
            "Area:  4000\n"
          ]
        }
      ],
      "source": [
        "# program to illustrate protected\n",
        "# data members in a class\n",
        "\n",
        "# super class\n",
        "class Shape:\n",
        "\n",
        "    # constructor\n",
        "    def __init__(self, length, breadth):\n",
        "        self.length = length\n",
        "        self.breadth = breadth\n",
        "\n",
        "    # public member function\n",
        "    def displaySides(self):\n",
        "        # accessing protected data members\n",
        "        print(\"Length: \", self.length)\n",
        "        print(\"Breadth: \", self.breadth)\n",
        "\n",
        "\n",
        "# derived class\n",
        "class Rectangle(Shape):\n",
        "\n",
        "    # constructor\n",
        "    def __init__(self, length, breadth):\n",
        "        # Calling the constructor of\n",
        "        # Super class\n",
        "        Shape.__init__(self, length, breadth)\n",
        "\n",
        "    # public member function\n",
        "    def calculateArea(self):\n",
        "        # accessing protected data members of super class\n",
        "        print(\"Area: \", self.length * self.breadth)\n",
        "\n",
        "\n",
        "# creating objects of the\n",
        "# derived class\n",
        "obj = Rectangle(80, 50)\n",
        "obja= Shape(20,10)\n",
        "print(obja.length)\n",
        "print(obja.breadth)\n",
        "\n",
        "# calling derived member\n",
        "# functions of the class\n",
        "obj.displaySides()\n",
        "\n",
        "# calling public member\n",
        "# functions of the class\n",
        "obj.calculateArea()"
      ]
    },
    {
      "cell_type": "code",
      "execution_count": 18,
      "metadata": {
        "id": "tjdxGKh6wGKj",
        "outputId": "e8d9c9ed-4c27-472c-989e-a9e5b25e7219",
        "colab": {
          "base_uri": "https://localhost:8080/"
        }
      },
      "outputs": [
        {
          "output_type": "stream",
          "name": "stdout",
          "text": [
            "20\n",
            "10\n",
            "Length:  80\n",
            "Breadth:  50\n",
            "Area:  4000\n"
          ]
        }
      ],
      "source": [
        "# program to illustrate protected\n",
        "# data members in a class\n",
        "\n",
        "# super class\n",
        "class Shape:\n",
        "\n",
        "    # constructor\n",
        "    def __init__(self, length, breadth):\n",
        "        self._length = length\n",
        "        self._breadth = breadth\n",
        "\n",
        "    # public member function\n",
        "    def displaySides(self):\n",
        "        # accessing protected data members\n",
        "        print(\"Length: \", self._length)\n",
        "        print(\"Breadth: \", self._breadth)\n",
        "\n",
        "\n",
        "# derived class\n",
        "class Rectangle(Shape):\n",
        "\n",
        "    # constructor\n",
        "    def __init__(self, length, breadth):\n",
        "        # Calling the constructor of\n",
        "        # Super class\n",
        "        Shape.__init__(self, length, breadth)\n",
        "\n",
        "    # public member function\n",
        "    def calculateArea(self):\n",
        "        # accessing protected data members of super class\n",
        "        print(\"Area: \", self._length * self._breadth)\n",
        "\n",
        "\n",
        "# creating objects of the\n",
        "# derived class\n",
        "obj = Rectangle(80, 50)\n",
        "obja= Shape(20,10)\n",
        "print(obja._length)\n",
        "print(obja._breadth)\n",
        "\n",
        "# calling derived member\n",
        "# functions of the class\n",
        "obj.displaySides()\n",
        "\n",
        "# calling public member\n",
        "# functions of the class\n",
        "obj.calculateArea()"
      ]
    },
    {
      "cell_type": "code",
      "execution_count": 19,
      "metadata": {
        "id": "yuGlddlwwGKk",
        "outputId": "a2cb493f-c1c2-4513-afed-b159f7eca055",
        "colab": {
          "base_uri": "https://localhost:8080/",
          "height": 332
        }
      },
      "outputs": [
        {
          "output_type": "stream",
          "name": "stdout",
          "text": [
            "Length:  80\n",
            "Breadth:  50\n"
          ]
        },
        {
          "output_type": "error",
          "ename": "AttributeError",
          "evalue": "'Rectangle' object has no attribute '_Rectangle__length'",
          "traceback": [
            "\u001b[0;31m---------------------------------------------------------------------------\u001b[0m",
            "\u001b[0;31mAttributeError\u001b[0m                            Traceback (most recent call last)",
            "\u001b[0;32m<ipython-input-19-2cb217a08ef8>\u001b[0m in \u001b[0;36m<cell line: 47>\u001b[0;34m()\u001b[0m\n\u001b[1;32m     45\u001b[0m \u001b[0;31m# calling public member\u001b[0m\u001b[0;34m\u001b[0m\u001b[0;34m\u001b[0m\u001b[0m\n\u001b[1;32m     46\u001b[0m \u001b[0;31m# functions of the class\u001b[0m\u001b[0;34m\u001b[0m\u001b[0;34m\u001b[0m\u001b[0m\n\u001b[0;32m---> 47\u001b[0;31m \u001b[0mobj\u001b[0m\u001b[0;34m.\u001b[0m\u001b[0mcalculateArea\u001b[0m\u001b[0;34m(\u001b[0m\u001b[0;34m)\u001b[0m\u001b[0;34m\u001b[0m\u001b[0;34m\u001b[0m\u001b[0m\n\u001b[0m",
            "\u001b[0;32m<ipython-input-19-2cb217a08ef8>\u001b[0m in \u001b[0;36mcalculateArea\u001b[0;34m(self)\u001b[0m\n\u001b[1;32m     29\u001b[0m     \u001b[0;32mdef\u001b[0m \u001b[0mcalculateArea\u001b[0m\u001b[0;34m(\u001b[0m\u001b[0mself\u001b[0m\u001b[0;34m)\u001b[0m\u001b[0;34m:\u001b[0m\u001b[0;34m\u001b[0m\u001b[0;34m\u001b[0m\u001b[0m\n\u001b[1;32m     30\u001b[0m         \u001b[0;31m# accessing protected data members of super class\u001b[0m\u001b[0;34m\u001b[0m\u001b[0;34m\u001b[0m\u001b[0m\n\u001b[0;32m---> 31\u001b[0;31m         \u001b[0mprint\u001b[0m\u001b[0;34m(\u001b[0m\u001b[0;34m\"Area: \"\u001b[0m\u001b[0;34m,\u001b[0m \u001b[0mself\u001b[0m\u001b[0;34m.\u001b[0m\u001b[0m__length\u001b[0m \u001b[0;34m*\u001b[0m \u001b[0mself\u001b[0m\u001b[0;34m.\u001b[0m\u001b[0m__breadth\u001b[0m\u001b[0;34m)\u001b[0m\u001b[0;34m\u001b[0m\u001b[0;34m\u001b[0m\u001b[0m\n\u001b[0m\u001b[1;32m     32\u001b[0m \u001b[0;34m\u001b[0m\u001b[0m\n\u001b[1;32m     33\u001b[0m \u001b[0;34m\u001b[0m\u001b[0m\n",
            "\u001b[0;31mAttributeError\u001b[0m: 'Rectangle' object has no attribute '_Rectangle__length'"
          ]
        }
      ],
      "source": [
        "# program to illustrate protected\n",
        "# data members in a class\n",
        "\n",
        "# super class\n",
        "class Shape:\n",
        "\n",
        "    # constructor\n",
        "    def __init__(self, length, breadth):\n",
        "        self.__length = length\n",
        "        self.__breadth = breadth\n",
        "\n",
        "    # public member function\n",
        "    def displaySides(self):\n",
        "        # accessing protected data members\n",
        "        print(\"Length: \", self.__length)\n",
        "        print(\"Breadth: \", self.__breadth)\n",
        "\n",
        "\n",
        "# derived class\n",
        "class Rectangle(Shape):\n",
        "\n",
        "    # constructor\n",
        "    def __init__(self, length, breadth):\n",
        "        # Calling the constructor of\n",
        "        # Super class\n",
        "        Shape.__init__(self, length, breadth)\n",
        "\n",
        "    # public member function\n",
        "    def calculateArea(self):\n",
        "        # accessing protected data members of super class\n",
        "        print(\"Area: \", self.__length * self.__breadth)\n",
        "\n",
        "\n",
        "# creating objects of the\n",
        "# derived class\n",
        "obj = Rectangle(80, 50)\n",
        "obja= Shape(20,10)\n",
        "#print(obja.__length)\n",
        "#print(obja.__breadth)\n",
        "\n",
        "# calling derived member\n",
        "# functions of the class\n",
        "obj.displaySides()\n",
        "\n",
        "# calling public member\n",
        "# functions of the class\n",
        "obj.calculateArea()"
      ]
    },
    {
      "cell_type": "code",
      "execution_count": 20,
      "metadata": {
        "id": "DxOZZlXrwGKm",
        "outputId": "1c9603fd-80e5-4f52-9ec0-dae3b9b57d94",
        "colab": {
          "base_uri": "https://localhost:8080/"
        }
      },
      "outputs": [
        {
          "output_type": "stream",
          "name": "stdout",
          "text": [
            "Length:  80\n",
            "Breadth:  50\n",
            "Area:  4000\n",
            "Length:  80\n",
            "Breadth:  50\n"
          ]
        }
      ],
      "source": [
        "# program to illustrate protected\n",
        "# data members in a class\n",
        "\n",
        "# super class\n",
        "class Shape:\n",
        "\n",
        "    # constructor\n",
        "    def __init__(self, length, breadth):\n",
        "        self.length = length\n",
        "        self.breadth = breadth\n",
        "\n",
        "    # public member function\n",
        "    def _displaySides(self):\n",
        "        # accessing protected data members\n",
        "        print(\"Length: \", self.length)\n",
        "        print(\"Breadth: \", self.breadth)\n",
        "\n",
        "\n",
        "# derived class\n",
        "class Rectangle(Shape):\n",
        "\n",
        "    # constructor\n",
        "    def __init__(self, length, breadth):\n",
        "        # Calling the constructor of\n",
        "        # Super class\n",
        "        Shape.__init__(self, length, breadth)\n",
        "\n",
        "    # public member function\n",
        "    def calculateArea(self):\n",
        "        # accessing protected data members of super class\n",
        "        print(\"Area: \", self.length * self.breadth)\n",
        "        Shape._displaySides(self)\n",
        "\n",
        "\n",
        "# creating objects of the\n",
        "# derived class\n",
        "obj = Rectangle(80, 50)\n",
        "obja= Shape(20,10)\n",
        "#print(obja.__length)\n",
        "#print(obja.__breadth)\n",
        "\n",
        "# calling derived member\n",
        "# functions of the class\n",
        "obj._displaySides()\n",
        "\n",
        "# calling public member\n",
        "# functions of the class\n",
        "obj.calculateArea()"
      ]
    },
    {
      "cell_type": "code",
      "execution_count": 21,
      "metadata": {
        "id": "a6DIjN36wGKn",
        "outputId": "f07064f5-b004-4a0e-e069-013dea87408c",
        "colab": {
          "base_uri": "https://localhost:8080/"
        }
      },
      "outputs": [
        {
          "output_type": "stream",
          "name": "stdout",
          "text": [
            "Length:  80\n",
            "Breadth:  50\n",
            "Area:  4000\n",
            "Length:  80\n",
            "Breadth:  50\n"
          ]
        }
      ],
      "source": [
        "# program to illustrate protected\n",
        "# data members in a class\n",
        "\n",
        "# super class\n",
        "class Shape:\n",
        "\n",
        "    # constructor\n",
        "    def __init__(self, length, breadth):\n",
        "        self.length = length\n",
        "        self.breadth = breadth\n",
        "\n",
        "    # public member function\n",
        "    def _displaySides(self):\n",
        "        # accessing protected data members\n",
        "        print(\"Length: \", self.length)\n",
        "        print(\"Breadth: \", self.breadth)\n",
        "\n",
        "\n",
        "# derived class\n",
        "class Rectangle(Shape):\n",
        "\n",
        "    # constructor\n",
        "    def __init__(self, length, breadth):\n",
        "        # Calling the constructor of\n",
        "        # Super class\n",
        "        Shape.__init__(self, length, breadth)\n",
        "\n",
        "    # public member function\n",
        "    def calculateArea(self):\n",
        "        # accessing protected data members of super class\n",
        "        print(\"Area: \", self.length * self.breadth)\n",
        "        Shape._displaySides(self)\n",
        "\n",
        "\n",
        "# creating objects of the\n",
        "# derived class\n",
        "obj = Rectangle(80, 50)\n",
        "obja= Shape(20,10)\n",
        "#print(obja.__length)\n",
        "#print(obja.__breadth)\n",
        "\n",
        "# calling derived member\n",
        "# functions of the class\n",
        "obj._displaySides()\n",
        "\n",
        "# calling public member\n",
        "# functions of the class\n",
        "obj.calculateArea()"
      ]
    },
    {
      "cell_type": "code",
      "execution_count": 22,
      "metadata": {
        "id": "Z9-RVxSUwGKn",
        "outputId": "052229c1-0882-4fbf-f56a-bf3cc0c8cbac",
        "colab": {
          "base_uri": "https://localhost:8080/",
          "height": 211
        }
      },
      "outputs": [
        {
          "output_type": "error",
          "ename": "AttributeError",
          "evalue": "'Rectangle' object has no attribute '__displaySides'",
          "traceback": [
            "\u001b[0;31m---------------------------------------------------------------------------\u001b[0m",
            "\u001b[0;31mAttributeError\u001b[0m                            Traceback (most recent call last)",
            "\u001b[0;32m<ipython-input-22-e3cf500251bf>\u001b[0m in \u001b[0;36m<cell line: 44>\u001b[0;34m()\u001b[0m\n\u001b[1;32m     42\u001b[0m \u001b[0;31m# calling derived member\u001b[0m\u001b[0;34m\u001b[0m\u001b[0;34m\u001b[0m\u001b[0m\n\u001b[1;32m     43\u001b[0m \u001b[0;31m# functions of the class\u001b[0m\u001b[0;34m\u001b[0m\u001b[0;34m\u001b[0m\u001b[0m\n\u001b[0;32m---> 44\u001b[0;31m \u001b[0mobj\u001b[0m\u001b[0;34m.\u001b[0m\u001b[0m__displaySides\u001b[0m\u001b[0;34m(\u001b[0m\u001b[0;34m)\u001b[0m\u001b[0;34m\u001b[0m\u001b[0;34m\u001b[0m\u001b[0m\n\u001b[0m\u001b[1;32m     45\u001b[0m \u001b[0;34m\u001b[0m\u001b[0m\n\u001b[1;32m     46\u001b[0m \u001b[0;31m# calling public member\u001b[0m\u001b[0;34m\u001b[0m\u001b[0;34m\u001b[0m\u001b[0m\n",
            "\u001b[0;31mAttributeError\u001b[0m: 'Rectangle' object has no attribute '__displaySides'"
          ]
        }
      ],
      "source": [
        "# program to illustrate protected\n",
        "# data members in a class\n",
        "\n",
        "# super class\n",
        "class Shape:\n",
        "\n",
        "    # constructor\n",
        "    def __init__(self, length, breadth):\n",
        "        self.length = length\n",
        "        self.breadth = breadth\n",
        "\n",
        "    # public member function\n",
        "    def __displaySides(self):\n",
        "        # accessing protected data members\n",
        "        print(\"Length: \", self.length)\n",
        "        print(\"Breadth: \", self.breadth)\n",
        "\n",
        "\n",
        "# derived class\n",
        "class Rectangle(Shape):\n",
        "\n",
        "    # constructor\n",
        "    def __init__(self, length, breadth):\n",
        "        # Calling the constructor of\n",
        "        # Super class\n",
        "        Shape.__init__(self, length, breadth)\n",
        "\n",
        "    # public member function\n",
        "    def calculateArea(self):\n",
        "        # accessing protected data members of super class\n",
        "        print(\"Area: \", self.length * self.breadth)\n",
        "        #Shape.__displaySides(self)\n",
        "\n",
        "\n",
        "# creating objects of the\n",
        "# derived class\n",
        "obj = Rectangle(80, 50)\n",
        "obja= Shape(20,10)\n",
        "#print(obja.__length)\n",
        "#print(obja.__breadth)\n",
        "\n",
        "# calling derived member\n",
        "# functions of the class\n",
        "obj.__displaySides()\n",
        "\n",
        "# calling public member\n",
        "# functions of the class\n",
        "#obj.calculateArea()"
      ]
    },
    {
      "cell_type": "code",
      "execution_count": null,
      "metadata": {
        "id": "uNcwYig0wGKo"
      },
      "outputs": [],
      "source": []
    }
  ],
  "metadata": {
    "kernelspec": {
      "display_name": "Python 3",
      "language": "python",
      "name": "python3"
    },
    "language_info": {
      "codemirror_mode": {
        "name": "ipython",
        "version": 3
      },
      "file_extension": ".py",
      "mimetype": "text/x-python",
      "name": "python",
      "nbconvert_exporter": "python",
      "pygments_lexer": "ipython3",
      "version": "3.8.5"
    },
    "colab": {
      "provenance": [],
      "include_colab_link": true
    }
  },
  "nbformat": 4,
  "nbformat_minor": 0
}